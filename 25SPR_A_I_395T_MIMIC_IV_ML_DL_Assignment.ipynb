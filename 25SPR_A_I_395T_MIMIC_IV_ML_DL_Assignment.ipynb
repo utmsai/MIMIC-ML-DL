{
  "cells": [
    {
      "cell_type": "markdown",
      "metadata": {},
      "source": [
        "## First: ML Random Forest Classifier"
      ]
    },
    {
      "cell_type": "markdown",
      "metadata": {},
      "source": [
        "As explained in the slides, some of the upcoming Python code blocks are adapted from my SLT assignment submission. In particular, the MIMIC IV, not the MIMIC III data is used."
      ]
    },
    {
      "cell_type": "code",
      "execution_count": 1,
      "metadata": {},
      "outputs": [],
      "source": [
        "# Import necessary libraries for the Random Forest Classifier (machine learning)\n",
        "import pandas as pd\n",
        "import numpy as np\n",
        "from sklearn.preprocessing import MultiLabelBinarizer\n",
        "from sklearn.multioutput import MultiOutputClassifier\n",
        "from sklearn.ensemble import RandomForestClassifier\n",
        "from sklearn.model_selection import train_test_split"
      ]
    },
    {
      "cell_type": "code",
      "execution_count": 2,
      "metadata": {},
      "outputs": [
        {
          "name": "stdout",
          "output_type": "stream",
          "text": [
            "   subject_id gender  anchor_age  anchor_year anchor_year_group         dod\n",
            "0    10014729      F          21         2125       2011 - 2013         NaN\n",
            "1    10003400      F          72         2134       2011 - 2013  2137-09-02\n",
            "2    10002428      F          80         2155       2011 - 2013         NaN\n",
            "3    10032725      F          38         2143       2011 - 2013  2143-03-30\n",
            "4    10027445      F          48         2142       2011 - 2013  2146-02-09\n",
            "   subject_id   hadm_id  seq_num icd_code  icd_version\n",
            "0    10035185  22580999        3     4139            9\n",
            "1    10035185  22580999       10     V707            9\n",
            "2    10035185  22580999        1    41401            9\n",
            "3    10035185  22580999        9     3899            9\n",
            "4    10035185  22580999       11    V8532            9\n",
            "   subject_id   hadm_id  pharmacy_id poe_id  poe_seq order_provider_id  \\\n",
            "0    10027602  28166872     27168639    NaN      NaN               NaN   \n",
            "1    10027602  28166872     40720238    NaN      NaN               NaN   \n",
            "2    10027602  28166872     62845687    NaN      NaN               NaN   \n",
            "3    10027602  28166872     24340150    NaN      NaN               NaN   \n",
            "4    10027602  28166872     14435820    NaN      NaN               NaN   \n",
            "\n",
            "             starttime stoptime drug_type              drug  ...  gsn ndc  \\\n",
            "0  2201-10-30 12:00:00      NaN      MAIN  Fentanyl Citrate  ...  NaN NaN   \n",
            "1  2201-10-30 12:00:00      NaN      MAIN  Fentanyl Citrate  ...  NaN NaN   \n",
            "2  2201-10-31 12:00:00      NaN      MAIN         Lorazepam  ...  NaN NaN   \n",
            "3  2201-10-30 12:00:00      NaN      MAIN         Midazolam  ...  NaN NaN   \n",
            "4  2201-10-30 12:00:00      NaN      MAIN         Midazolam  ...  NaN NaN   \n",
            "\n",
            "   prod_strength form_rx dose_val_rx dose_unit_rx form_val_disp  \\\n",
            "0            NaN     NaN         NaN          NaN           NaN   \n",
            "1            NaN     NaN         NaN          NaN           NaN   \n",
            "2            NaN     NaN         NaN          NaN           NaN   \n",
            "3            NaN     NaN         NaN          NaN           NaN   \n",
            "4            NaN     NaN         NaN          NaN           NaN   \n",
            "\n",
            "  form_unit_disp doses_per_24_hrs  route  \n",
            "0            NaN              NaN    NaN  \n",
            "1            NaN              NaN    NaN  \n",
            "2            NaN              NaN    NaN  \n",
            "3            NaN              NaN    NaN  \n",
            "4            NaN              NaN    NaN  \n",
            "\n",
            "[5 rows x 21 columns]\n"
          ]
        }
      ],
      "source": [
        "# In order to train the medication recommendation procedure\n",
        "# we need to load in the MIMIC-IV demo diagnosis and prescription data\n",
        "# './incomplete_mimic-iv-clinical-database-demo-2.2/hosp/' \n",
        "# is just where the csv files are stored\n",
        "patients = pd.read_csv('./incomplete_mimic-iv-clinical-database-demo-2.2/hosp/patients.csv')\n",
        "diagnoses = pd.read_csv('./incomplete_mimic-iv-clinical-database-demo-2.2/hosp/diagnoses_icd.csv')\n",
        "prescriptions = pd.read_csv('./incomplete_mimic-iv-clinical-database-demo-2.2/hosp/prescriptions.csv')\n",
        "print(patients.head())\n",
        "print(diagnoses.head())\n",
        "print(prescriptions.head())"
      ]
    },
    {
      "cell_type": "code",
      "execution_count": 3,
      "metadata": {},
      "outputs": [
        {
          "name": "stdout",
          "output_type": "stream",
          "text": [
            "   subject_id                                           icd_code\n",
            "0    10000032  [2761, V08, 2875, 3051, 5715, 496, 07071, 7895...\n",
            "1    10001217  [V168, V161, 04109, 3485, 4019, 3484, 3240, 34...\n",
            "2    10001725  [49390, 7291, 6185, 56400, 5641, E9352, 6186, ...\n",
            "3    10002428  [4019, 29281, 4240, 00845, 1122, 7102, 73300, ...\n",
            "4    10002495  [R310, N179, Z7901, Z86718, I214, A047, Z23, K...\n",
            "   subject_id                                               drug\n",
            "0    10000032  [Tiotropium Bromide, Tiotropium Bromide, Tiotr...\n",
            "1    10001217  [Vial, Bag, OxycoDONE (Immediate Release) , Ox...\n",
            "2    10001725  [Zolpidem Tartrate, Zolpidem Tartrate, Bag, Lo...\n",
            "3    10002428  [Insulin, Insulin, Insulin, Multivitamins, Mul...\n",
            "4    10002495  [Insulin, Insulin, Bag, Bag, Lidocaine Jelly 2...\n"
          ]
        }
      ],
      "source": [
        "# Patients are identified by their subject_id\n",
        "# We will group the diagnoses and prescriptions by subject_id\n",
        "# so that we can train a model to predict the medications\n",
        "# based on the diagnoses\n",
        "diagnoses_by_patient = diagnoses.groupby('subject_id')['icd_code'].apply(list).reset_index()\n",
        "prescriptions_by_patient = prescriptions.groupby('subject_id')['drug'].apply(list).reset_index()\n",
        "print(diagnoses_by_patient.head())\n",
        "print(prescriptions_by_patient.head())"
      ]
    },
    {
      "cell_type": "code",
      "execution_count": 4,
      "metadata": {},
      "outputs": [
        {
          "name": "stdout",
          "output_type": "stream",
          "text": [
            "   subject_id                                           icd_code  \\\n",
            "0    10000032  [2761, V08, 2875, 3051, 5715, 496, 07071, 7895...   \n",
            "1    10001217  [V168, V161, 04109, 3485, 4019, 3484, 3240, 34...   \n",
            "2    10001725  [49390, 7291, 6185, 56400, 5641, E9352, 6186, ...   \n",
            "3    10002428  [4019, 29281, 4240, 00845, 1122, 7102, 73300, ...   \n",
            "4    10002495  [R310, N179, Z7901, Z86718, I214, A047, Z23, K...   \n",
            "\n",
            "                                                drug  \n",
            "0  [Tiotropium Bromide, Tiotropium Bromide, Tiotr...  \n",
            "1  [Vial, Bag, OxycoDONE (Immediate Release) , Ox...  \n",
            "2  [Zolpidem Tartrate, Zolpidem Tartrate, Bag, Lo...  \n",
            "3  [Insulin, Insulin, Insulin, Multivitamins, Mul...  \n",
            "4  [Insulin, Insulin, Bag, Bag, Lidocaine Jelly 2...  \n"
          ]
        }
      ],
      "source": [
        "# Pandas merge function is used to combine the two dataframes\n",
        "# on the subject_id column\n",
        "data = pd.merge(diagnoses_by_patient, prescriptions_by_patient, on='subject_id')\n",
        "print(data.head())"
      ]
    },
    {
      "cell_type": "code",
      "execution_count": 5,
      "metadata": {},
      "outputs": [
        {
          "name": "stdout",
          "output_type": "stream",
          "text": [
            "0    [2761, V08, 2875, 3051, 5715, 496, 07071, 7895...\n",
            "1    [V168, V161, 04109, 3485, 4019, 3484, 3240, 34...\n",
            "2    [49390, 7291, 6185, 56400, 5641, E9352, 6186, ...\n",
            "3    [4019, 29281, 4240, 00845, 1122, 7102, 73300, ...\n",
            "4    [R310, N179, Z7901, Z86718, I214, A047, Z23, K...\n",
            "Name: icd_code, dtype: object\n",
            "0    [Tiotropium Bromide, Tiotropium Bromide, Tiotr...\n",
            "1    [Vial, Bag, OxycoDONE (Immediate Release) , Ox...\n",
            "2    [Zolpidem Tartrate, Zolpidem Tartrate, Bag, Lo...\n",
            "3    [Insulin, Insulin, Insulin, Multivitamins, Mul...\n",
            "4    [Insulin, Insulin, Bag, Bag, Lidocaine Jelly 2...\n",
            "Name: drug, dtype: object\n"
          ]
        }
      ],
      "source": [
        "# In machine learning/statistics, we often use X to represent the features\n",
        "# and y to represent the target variable\n",
        "# So we intend to learn from the diagnoses (X) to predict the prescriptions (y)\n",
        "X = data['icd_code']\n",
        "y = data['drug']\n",
        "print(X.head())\n",
        "print(y.head())"
      ]
    },
    {
      "cell_type": "code",
      "execution_count": 6,
      "metadata": {},
      "outputs": [],
      "source": [
        "# We will now prepare the date for machine learning\n",
        "# This is known as Feature Engineering\n",
        "# MultiLabelBinarizer (mlb) helps us to convert the categorical diagnosis codes\n",
        "# into a binary matrix (a matrix of 0's and 1's).\n",
        "# This is necessary because machine learning models require numerical data\n",
        "mlb_diagnosis = MultiLabelBinarizer()"
      ]
    },
    {
      "cell_type": "code",
      "execution_count": 7,
      "metadata": {},
      "outputs": [],
      "source": [
        "# We will fit the MultiLabelBinarizer (mlb) on the diagnosis data\n",
        "# and then transform the data into a binary matrix format\n",
        "X_encoded = mlb_diagnosis.fit_transform(X)"
      ]
    },
    {
      "cell_type": "code",
      "execution_count": 8,
      "metadata": {},
      "outputs": [],
      "source": [
        "# We will also use MultiLabelBinarizer (mlb) to convert the prescription data\n",
        "# into a binary matrix format\n",
        "# Below is the code from the previous two cells combined\n",
        "# but for the prescription data\n",
        "mlb_prescription = MultiLabelBinarizer()\n",
        "y_encoded = mlb_prescription.fit_transform(y)"
      ]
    },
    {
      "cell_type": "code",
      "execution_count": 9,
      "metadata": {},
      "outputs": [],
      "source": [
        "# Use the train_test_split method to split the data\n",
        "# Here we are using 80% of the data for training and 20% for testing\n",
        "# We also set a random_state so that the data is split in the same way each time\n",
        "# This is useful for reproducibility\n",
        "X_train, X_test, y_train, y_test = train_test_split(X_encoded, y_encoded, test_size=0.2, random_state=7)"
      ]
    },
    {
      "cell_type": "code",
      "execution_count": 10,
      "metadata": {},
      "outputs": [],
      "source": [
        "# We'll now train the machine learning model\n",
        "# Here, the model will learn patterns in the diagnoses data\n",
        "# to predict the prescriptions\n",
        "# The model will be a Random Forest (rf) Classifier, \n",
        "# which multiple decision trees to make predictions\n",
        "# We will use 100 decision trees in the Random Forest\n",
        "# We also set the random_state = 7 \n",
        "# so that the model is trained in the same way each time\n",
        "rf_classifier = RandomForestClassifier(n_estimators=100, random_state=7)"
      ]
    },
    {
      "cell_type": "code",
      "execution_count": 11,
      "metadata": {},
      "outputs": [
        {
          "data": {
            "text/html": [
              "<style>#sk-container-id-1 {\n",
              "  /* Definition of color scheme common for light and dark mode */\n",
              "  --sklearn-color-text: #000;\n",
              "  --sklearn-color-text-muted: #666;\n",
              "  --sklearn-color-line: gray;\n",
              "  /* Definition of color scheme for unfitted estimators */\n",
              "  --sklearn-color-unfitted-level-0: #fff5e6;\n",
              "  --sklearn-color-unfitted-level-1: #f6e4d2;\n",
              "  --sklearn-color-unfitted-level-2: #ffe0b3;\n",
              "  --sklearn-color-unfitted-level-3: chocolate;\n",
              "  /* Definition of color scheme for fitted estimators */\n",
              "  --sklearn-color-fitted-level-0: #f0f8ff;\n",
              "  --sklearn-color-fitted-level-1: #d4ebff;\n",
              "  --sklearn-color-fitted-level-2: #b3dbfd;\n",
              "  --sklearn-color-fitted-level-3: cornflowerblue;\n",
              "\n",
              "  /* Specific color for light theme */\n",
              "  --sklearn-color-text-on-default-background: var(--sg-text-color, var(--theme-code-foreground, var(--jp-content-font-color1, black)));\n",
              "  --sklearn-color-background: var(--sg-background-color, var(--theme-background, var(--jp-layout-color0, white)));\n",
              "  --sklearn-color-border-box: var(--sg-text-color, var(--theme-code-foreground, var(--jp-content-font-color1, black)));\n",
              "  --sklearn-color-icon: #696969;\n",
              "\n",
              "  @media (prefers-color-scheme: dark) {\n",
              "    /* Redefinition of color scheme for dark theme */\n",
              "    --sklearn-color-text-on-default-background: var(--sg-text-color, var(--theme-code-foreground, var(--jp-content-font-color1, white)));\n",
              "    --sklearn-color-background: var(--sg-background-color, var(--theme-background, var(--jp-layout-color0, #111)));\n",
              "    --sklearn-color-border-box: var(--sg-text-color, var(--theme-code-foreground, var(--jp-content-font-color1, white)));\n",
              "    --sklearn-color-icon: #878787;\n",
              "  }\n",
              "}\n",
              "\n",
              "#sk-container-id-1 {\n",
              "  color: var(--sklearn-color-text);\n",
              "}\n",
              "\n",
              "#sk-container-id-1 pre {\n",
              "  padding: 0;\n",
              "}\n",
              "\n",
              "#sk-container-id-1 input.sk-hidden--visually {\n",
              "  border: 0;\n",
              "  clip: rect(1px 1px 1px 1px);\n",
              "  clip: rect(1px, 1px, 1px, 1px);\n",
              "  height: 1px;\n",
              "  margin: -1px;\n",
              "  overflow: hidden;\n",
              "  padding: 0;\n",
              "  position: absolute;\n",
              "  width: 1px;\n",
              "}\n",
              "\n",
              "#sk-container-id-1 div.sk-dashed-wrapped {\n",
              "  border: 1px dashed var(--sklearn-color-line);\n",
              "  margin: 0 0.4em 0.5em 0.4em;\n",
              "  box-sizing: border-box;\n",
              "  padding-bottom: 0.4em;\n",
              "  background-color: var(--sklearn-color-background);\n",
              "}\n",
              "\n",
              "#sk-container-id-1 div.sk-container {\n",
              "  /* jupyter's `normalize.less` sets `[hidden] { display: none; }`\n",
              "     but bootstrap.min.css set `[hidden] { display: none !important; }`\n",
              "     so we also need the `!important` here to be able to override the\n",
              "     default hidden behavior on the sphinx rendered scikit-learn.org.\n",
              "     See: https://github.com/scikit-learn/scikit-learn/issues/21755 */\n",
              "  display: inline-block !important;\n",
              "  position: relative;\n",
              "}\n",
              "\n",
              "#sk-container-id-1 div.sk-text-repr-fallback {\n",
              "  display: none;\n",
              "}\n",
              "\n",
              "div.sk-parallel-item,\n",
              "div.sk-serial,\n",
              "div.sk-item {\n",
              "  /* draw centered vertical line to link estimators */\n",
              "  background-image: linear-gradient(var(--sklearn-color-text-on-default-background), var(--sklearn-color-text-on-default-background));\n",
              "  background-size: 2px 100%;\n",
              "  background-repeat: no-repeat;\n",
              "  background-position: center center;\n",
              "}\n",
              "\n",
              "/* Parallel-specific style estimator block */\n",
              "\n",
              "#sk-container-id-1 div.sk-parallel-item::after {\n",
              "  content: \"\";\n",
              "  width: 100%;\n",
              "  border-bottom: 2px solid var(--sklearn-color-text-on-default-background);\n",
              "  flex-grow: 1;\n",
              "}\n",
              "\n",
              "#sk-container-id-1 div.sk-parallel {\n",
              "  display: flex;\n",
              "  align-items: stretch;\n",
              "  justify-content: center;\n",
              "  background-color: var(--sklearn-color-background);\n",
              "  position: relative;\n",
              "}\n",
              "\n",
              "#sk-container-id-1 div.sk-parallel-item {\n",
              "  display: flex;\n",
              "  flex-direction: column;\n",
              "}\n",
              "\n",
              "#sk-container-id-1 div.sk-parallel-item:first-child::after {\n",
              "  align-self: flex-end;\n",
              "  width: 50%;\n",
              "}\n",
              "\n",
              "#sk-container-id-1 div.sk-parallel-item:last-child::after {\n",
              "  align-self: flex-start;\n",
              "  width: 50%;\n",
              "}\n",
              "\n",
              "#sk-container-id-1 div.sk-parallel-item:only-child::after {\n",
              "  width: 0;\n",
              "}\n",
              "\n",
              "/* Serial-specific style estimator block */\n",
              "\n",
              "#sk-container-id-1 div.sk-serial {\n",
              "  display: flex;\n",
              "  flex-direction: column;\n",
              "  align-items: center;\n",
              "  background-color: var(--sklearn-color-background);\n",
              "  padding-right: 1em;\n",
              "  padding-left: 1em;\n",
              "}\n",
              "\n",
              "\n",
              "/* Toggleable style: style used for estimator/Pipeline/ColumnTransformer box that is\n",
              "clickable and can be expanded/collapsed.\n",
              "- Pipeline and ColumnTransformer use this feature and define the default style\n",
              "- Estimators will overwrite some part of the style using the `sk-estimator` class\n",
              "*/\n",
              "\n",
              "/* Pipeline and ColumnTransformer style (default) */\n",
              "\n",
              "#sk-container-id-1 div.sk-toggleable {\n",
              "  /* Default theme specific background. It is overwritten whether we have a\n",
              "  specific estimator or a Pipeline/ColumnTransformer */\n",
              "  background-color: var(--sklearn-color-background);\n",
              "}\n",
              "\n",
              "/* Toggleable label */\n",
              "#sk-container-id-1 label.sk-toggleable__label {\n",
              "  cursor: pointer;\n",
              "  display: flex;\n",
              "  width: 100%;\n",
              "  margin-bottom: 0;\n",
              "  padding: 0.5em;\n",
              "  box-sizing: border-box;\n",
              "  text-align: center;\n",
              "  align-items: start;\n",
              "  justify-content: space-between;\n",
              "  gap: 0.5em;\n",
              "}\n",
              "\n",
              "#sk-container-id-1 label.sk-toggleable__label .caption {\n",
              "  font-size: 0.6rem;\n",
              "  font-weight: lighter;\n",
              "  color: var(--sklearn-color-text-muted);\n",
              "}\n",
              "\n",
              "#sk-container-id-1 label.sk-toggleable__label-arrow:before {\n",
              "  /* Arrow on the left of the label */\n",
              "  content: \"▸\";\n",
              "  float: left;\n",
              "  margin-right: 0.25em;\n",
              "  color: var(--sklearn-color-icon);\n",
              "}\n",
              "\n",
              "#sk-container-id-1 label.sk-toggleable__label-arrow:hover:before {\n",
              "  color: var(--sklearn-color-text);\n",
              "}\n",
              "\n",
              "/* Toggleable content - dropdown */\n",
              "\n",
              "#sk-container-id-1 div.sk-toggleable__content {\n",
              "  max-height: 0;\n",
              "  max-width: 0;\n",
              "  overflow: hidden;\n",
              "  text-align: left;\n",
              "  /* unfitted */\n",
              "  background-color: var(--sklearn-color-unfitted-level-0);\n",
              "}\n",
              "\n",
              "#sk-container-id-1 div.sk-toggleable__content.fitted {\n",
              "  /* fitted */\n",
              "  background-color: var(--sklearn-color-fitted-level-0);\n",
              "}\n",
              "\n",
              "#sk-container-id-1 div.sk-toggleable__content pre {\n",
              "  margin: 0.2em;\n",
              "  border-radius: 0.25em;\n",
              "  color: var(--sklearn-color-text);\n",
              "  /* unfitted */\n",
              "  background-color: var(--sklearn-color-unfitted-level-0);\n",
              "}\n",
              "\n",
              "#sk-container-id-1 div.sk-toggleable__content.fitted pre {\n",
              "  /* unfitted */\n",
              "  background-color: var(--sklearn-color-fitted-level-0);\n",
              "}\n",
              "\n",
              "#sk-container-id-1 input.sk-toggleable__control:checked~div.sk-toggleable__content {\n",
              "  /* Expand drop-down */\n",
              "  max-height: 200px;\n",
              "  max-width: 100%;\n",
              "  overflow: auto;\n",
              "}\n",
              "\n",
              "#sk-container-id-1 input.sk-toggleable__control:checked~label.sk-toggleable__label-arrow:before {\n",
              "  content: \"▾\";\n",
              "}\n",
              "\n",
              "/* Pipeline/ColumnTransformer-specific style */\n",
              "\n",
              "#sk-container-id-1 div.sk-label input.sk-toggleable__control:checked~label.sk-toggleable__label {\n",
              "  color: var(--sklearn-color-text);\n",
              "  background-color: var(--sklearn-color-unfitted-level-2);\n",
              "}\n",
              "\n",
              "#sk-container-id-1 div.sk-label.fitted input.sk-toggleable__control:checked~label.sk-toggleable__label {\n",
              "  background-color: var(--sklearn-color-fitted-level-2);\n",
              "}\n",
              "\n",
              "/* Estimator-specific style */\n",
              "\n",
              "/* Colorize estimator box */\n",
              "#sk-container-id-1 div.sk-estimator input.sk-toggleable__control:checked~label.sk-toggleable__label {\n",
              "  /* unfitted */\n",
              "  background-color: var(--sklearn-color-unfitted-level-2);\n",
              "}\n",
              "\n",
              "#sk-container-id-1 div.sk-estimator.fitted input.sk-toggleable__control:checked~label.sk-toggleable__label {\n",
              "  /* fitted */\n",
              "  background-color: var(--sklearn-color-fitted-level-2);\n",
              "}\n",
              "\n",
              "#sk-container-id-1 div.sk-label label.sk-toggleable__label,\n",
              "#sk-container-id-1 div.sk-label label {\n",
              "  /* The background is the default theme color */\n",
              "  color: var(--sklearn-color-text-on-default-background);\n",
              "}\n",
              "\n",
              "/* On hover, darken the color of the background */\n",
              "#sk-container-id-1 div.sk-label:hover label.sk-toggleable__label {\n",
              "  color: var(--sklearn-color-text);\n",
              "  background-color: var(--sklearn-color-unfitted-level-2);\n",
              "}\n",
              "\n",
              "/* Label box, darken color on hover, fitted */\n",
              "#sk-container-id-1 div.sk-label.fitted:hover label.sk-toggleable__label.fitted {\n",
              "  color: var(--sklearn-color-text);\n",
              "  background-color: var(--sklearn-color-fitted-level-2);\n",
              "}\n",
              "\n",
              "/* Estimator label */\n",
              "\n",
              "#sk-container-id-1 div.sk-label label {\n",
              "  font-family: monospace;\n",
              "  font-weight: bold;\n",
              "  display: inline-block;\n",
              "  line-height: 1.2em;\n",
              "}\n",
              "\n",
              "#sk-container-id-1 div.sk-label-container {\n",
              "  text-align: center;\n",
              "}\n",
              "\n",
              "/* Estimator-specific */\n",
              "#sk-container-id-1 div.sk-estimator {\n",
              "  font-family: monospace;\n",
              "  border: 1px dotted var(--sklearn-color-border-box);\n",
              "  border-radius: 0.25em;\n",
              "  box-sizing: border-box;\n",
              "  margin-bottom: 0.5em;\n",
              "  /* unfitted */\n",
              "  background-color: var(--sklearn-color-unfitted-level-0);\n",
              "}\n",
              "\n",
              "#sk-container-id-1 div.sk-estimator.fitted {\n",
              "  /* fitted */\n",
              "  background-color: var(--sklearn-color-fitted-level-0);\n",
              "}\n",
              "\n",
              "/* on hover */\n",
              "#sk-container-id-1 div.sk-estimator:hover {\n",
              "  /* unfitted */\n",
              "  background-color: var(--sklearn-color-unfitted-level-2);\n",
              "}\n",
              "\n",
              "#sk-container-id-1 div.sk-estimator.fitted:hover {\n",
              "  /* fitted */\n",
              "  background-color: var(--sklearn-color-fitted-level-2);\n",
              "}\n",
              "\n",
              "/* Specification for estimator info (e.g. \"i\" and \"?\") */\n",
              "\n",
              "/* Common style for \"i\" and \"?\" */\n",
              "\n",
              ".sk-estimator-doc-link,\n",
              "a:link.sk-estimator-doc-link,\n",
              "a:visited.sk-estimator-doc-link {\n",
              "  float: right;\n",
              "  font-size: smaller;\n",
              "  line-height: 1em;\n",
              "  font-family: monospace;\n",
              "  background-color: var(--sklearn-color-background);\n",
              "  border-radius: 1em;\n",
              "  height: 1em;\n",
              "  width: 1em;\n",
              "  text-decoration: none !important;\n",
              "  margin-left: 0.5em;\n",
              "  text-align: center;\n",
              "  /* unfitted */\n",
              "  border: var(--sklearn-color-unfitted-level-1) 1pt solid;\n",
              "  color: var(--sklearn-color-unfitted-level-1);\n",
              "}\n",
              "\n",
              ".sk-estimator-doc-link.fitted,\n",
              "a:link.sk-estimator-doc-link.fitted,\n",
              "a:visited.sk-estimator-doc-link.fitted {\n",
              "  /* fitted */\n",
              "  border: var(--sklearn-color-fitted-level-1) 1pt solid;\n",
              "  color: var(--sklearn-color-fitted-level-1);\n",
              "}\n",
              "\n",
              "/* On hover */\n",
              "div.sk-estimator:hover .sk-estimator-doc-link:hover,\n",
              ".sk-estimator-doc-link:hover,\n",
              "div.sk-label-container:hover .sk-estimator-doc-link:hover,\n",
              ".sk-estimator-doc-link:hover {\n",
              "  /* unfitted */\n",
              "  background-color: var(--sklearn-color-unfitted-level-3);\n",
              "  color: var(--sklearn-color-background);\n",
              "  text-decoration: none;\n",
              "}\n",
              "\n",
              "div.sk-estimator.fitted:hover .sk-estimator-doc-link.fitted:hover,\n",
              ".sk-estimator-doc-link.fitted:hover,\n",
              "div.sk-label-container:hover .sk-estimator-doc-link.fitted:hover,\n",
              ".sk-estimator-doc-link.fitted:hover {\n",
              "  /* fitted */\n",
              "  background-color: var(--sklearn-color-fitted-level-3);\n",
              "  color: var(--sklearn-color-background);\n",
              "  text-decoration: none;\n",
              "}\n",
              "\n",
              "/* Span, style for the box shown on hovering the info icon */\n",
              ".sk-estimator-doc-link span {\n",
              "  display: none;\n",
              "  z-index: 9999;\n",
              "  position: relative;\n",
              "  font-weight: normal;\n",
              "  right: .2ex;\n",
              "  padding: .5ex;\n",
              "  margin: .5ex;\n",
              "  width: min-content;\n",
              "  min-width: 20ex;\n",
              "  max-width: 50ex;\n",
              "  color: var(--sklearn-color-text);\n",
              "  box-shadow: 2pt 2pt 4pt #999;\n",
              "  /* unfitted */\n",
              "  background: var(--sklearn-color-unfitted-level-0);\n",
              "  border: .5pt solid var(--sklearn-color-unfitted-level-3);\n",
              "}\n",
              "\n",
              ".sk-estimator-doc-link.fitted span {\n",
              "  /* fitted */\n",
              "  background: var(--sklearn-color-fitted-level-0);\n",
              "  border: var(--sklearn-color-fitted-level-3);\n",
              "}\n",
              "\n",
              ".sk-estimator-doc-link:hover span {\n",
              "  display: block;\n",
              "}\n",
              "\n",
              "/* \"?\"-specific style due to the `<a>` HTML tag */\n",
              "\n",
              "#sk-container-id-1 a.estimator_doc_link {\n",
              "  float: right;\n",
              "  font-size: 1rem;\n",
              "  line-height: 1em;\n",
              "  font-family: monospace;\n",
              "  background-color: var(--sklearn-color-background);\n",
              "  border-radius: 1rem;\n",
              "  height: 1rem;\n",
              "  width: 1rem;\n",
              "  text-decoration: none;\n",
              "  /* unfitted */\n",
              "  color: var(--sklearn-color-unfitted-level-1);\n",
              "  border: var(--sklearn-color-unfitted-level-1) 1pt solid;\n",
              "}\n",
              "\n",
              "#sk-container-id-1 a.estimator_doc_link.fitted {\n",
              "  /* fitted */\n",
              "  border: var(--sklearn-color-fitted-level-1) 1pt solid;\n",
              "  color: var(--sklearn-color-fitted-level-1);\n",
              "}\n",
              "\n",
              "/* On hover */\n",
              "#sk-container-id-1 a.estimator_doc_link:hover {\n",
              "  /* unfitted */\n",
              "  background-color: var(--sklearn-color-unfitted-level-3);\n",
              "  color: var(--sklearn-color-background);\n",
              "  text-decoration: none;\n",
              "}\n",
              "\n",
              "#sk-container-id-1 a.estimator_doc_link.fitted:hover {\n",
              "  /* fitted */\n",
              "  background-color: var(--sklearn-color-fitted-level-3);\n",
              "}\n",
              "</style><div id=\"sk-container-id-1\" class=\"sk-top-container\"><div class=\"sk-text-repr-fallback\"><pre>MultiOutputClassifier(estimator=RandomForestClassifier(random_state=7))</pre><b>In a Jupyter environment, please rerun this cell to show the HTML representation or trust the notebook. <br />On GitHub, the HTML representation is unable to render, please try loading this page with nbviewer.org.</b></div><div class=\"sk-container\" hidden><div class=\"sk-item sk-dashed-wrapped\"><div class=\"sk-label-container\"><div class=\"sk-label fitted sk-toggleable\"><input class=\"sk-toggleable__control sk-hidden--visually\" id=\"sk-estimator-id-1\" type=\"checkbox\" ><label for=\"sk-estimator-id-1\" class=\"sk-toggleable__label fitted sk-toggleable__label-arrow\"><div><div>MultiOutputClassifier</div></div><div><a class=\"sk-estimator-doc-link fitted\" rel=\"noreferrer\" target=\"_blank\" href=\"https://scikit-learn.org/1.6/modules/generated/sklearn.multioutput.MultiOutputClassifier.html\">?<span>Documentation for MultiOutputClassifier</span></a><span class=\"sk-estimator-doc-link fitted\">i<span>Fitted</span></span></div></label><div class=\"sk-toggleable__content fitted\"><pre>MultiOutputClassifier(estimator=RandomForestClassifier(random_state=7))</pre></div> </div></div><div class=\"sk-parallel\"><div class=\"sk-parallel-item\"><div class=\"sk-item\"><div class=\"sk-label-container\"><div class=\"sk-label fitted sk-toggleable\"><input class=\"sk-toggleable__control sk-hidden--visually\" id=\"sk-estimator-id-2\" type=\"checkbox\" ><label for=\"sk-estimator-id-2\" class=\"sk-toggleable__label fitted sk-toggleable__label-arrow\"><div><div>estimator: RandomForestClassifier</div></div></label><div class=\"sk-toggleable__content fitted\"><pre>RandomForestClassifier(random_state=7)</pre></div> </div></div><div class=\"sk-serial\"><div class=\"sk-item\"><div class=\"sk-estimator fitted sk-toggleable\"><input class=\"sk-toggleable__control sk-hidden--visually\" id=\"sk-estimator-id-3\" type=\"checkbox\" ><label for=\"sk-estimator-id-3\" class=\"sk-toggleable__label fitted sk-toggleable__label-arrow\"><div><div>RandomForestClassifier</div></div><div><a class=\"sk-estimator-doc-link fitted\" rel=\"noreferrer\" target=\"_blank\" href=\"https://scikit-learn.org/1.6/modules/generated/sklearn.ensemble.RandomForestClassifier.html\">?<span>Documentation for RandomForestClassifier</span></a></div></label><div class=\"sk-toggleable__content fitted\"><pre>RandomForestClassifier(random_state=7)</pre></div> </div></div></div></div></div></div></div></div></div>"
            ],
            "text/plain": [
              "MultiOutputClassifier(estimator=RandomForestClassifier(random_state=7))"
            ]
          },
          "execution_count": 11,
          "metadata": {},
          "output_type": "execute_result"
        }
      ],
      "source": [
        "# Here, the Random Forest Classifier is wrapped with in a MultiOutputClassifier\n",
        "# The MultiOutputClassifier allows for multiple prescriptions to be predicted\n",
        "# for each set of input patient diagnoses\n",
        "multi_target_rf = MultiOutputClassifier(rf_classifier)\n",
        "# Finally, fit() is a method that trains the model\n",
        "# on the training data \n",
        "# X_train is the input data (patient diagnoses)\n",
        "# y_train is the output data (prescription recommendations)\n",
        "multi_target_rf.fit(X_train, y_train)"
      ]
    },
    {
      "cell_type": "code",
      "execution_count": 12,
      "metadata": {},
      "outputs": [],
      "source": [
        "# The following recommend_medications() function takes in\n",
        "# a list of diagnosis codes and returns the top 5 recommended medications\n",
        "# based on the trained model\n",
        "\n",
        "def recommend_medications(diagnosis_codes):\n",
        "    # Here the square brackets enclosing the diagnosis_codes ensure that\n",
        "    # the input is treated as a list of diagnosis codes\n",
        "    # The transform() method converts the diagnosis codes into a binary format\n",
        "    # that the model can understand\n",
        "    patient_features = mlb_diagnosis.transform([diagnosis_codes])\n",
        "    \n",
        "    # predict_proba() is used to get the predicted probabilities\n",
        "    # of each medication being recommended\n",
        "    pred_probas = multi_target_rf.predict_proba(patient_features)\n",
        "    \n",
        "    # Get top 5 recommended medications names and return them\n",
        "    top_5 = np.argsort(pred_probas[0])[::-1][:5]\n",
        "    recommended_meds = mlb_prescription.classes_[top_5]\n",
        "    \n",
        "    return recommended_meds"
      ]
    },
    {
      "cell_type": "code",
      "execution_count": 13,
      "metadata": {},
      "outputs": [
        {
          "name": "stderr",
          "output_type": "stream",
          "text": [
            "C:\\Users\\Abrah\\AppData\\Roaming\\Python\\Python311\\site-packages\\sklearn\\preprocessing\\_label.py:909: UserWarning: unknown class(es) ['250.00', '571.5'] will be ignored\n",
            "  warnings.warn(\n"
          ]
        },
        {
          "name": "stdout",
          "output_type": "stream",
          "text": [
            "Predicted Drug: [['0.45% Sodium Chloride' '*NF* Ertapenem Sodium']]\n"
          ]
        }
      ],
      "source": [
        "# As an example, let us use the machine learning model to\n",
        "# recommend medications given the following patient diagnoses\n",
        "# 571.5: Cirrhosis of liver without mention of alcohol\n",
        "# 250.00: Diabetes mellitus without mention of complication, \n",
        "# type II or unspecified type, not stated as uncontrolled\n",
        "# Use the recommend_medications() function to get the recommended medication(s)\n",
        "patient_diagnoses = ['571.5', '250.00']  \n",
        "recommended_medications = recommend_medications(patient_diagnoses)\n",
        "print(\"Predicted Drug:\", recommended_medications)"
      ]
    },
    {
      "cell_type": "markdown",
      "metadata": {},
      "source": [
        "## Second: DL Recurrent Neural Network"
      ]
    },
    {
      "cell_type": "code",
      "execution_count": 14,
      "metadata": {},
      "outputs": [],
      "source": [
        "# Load the required libraries, that we have not yet loaded\n",
        "import torch\n",
        "import torch.nn as nn\n",
        "import torch.optim as optim\n",
        "from sklearn.preprocessing import LabelEncoder"
      ]
    },
    {
      "cell_type": "code",
      "execution_count": 15,
      "metadata": {},
      "outputs": [
        {
          "name": "stdout",
          "output_type": "stream",
          "text": [
            "Diagnoses Data:\n",
            "   subject_id   hadm_id  seq_num icd_code  icd_version\n",
            "0    10035185  22580999        3     4139            9\n",
            "1    10035185  22580999       10     V707            9\n",
            "2    10035185  22580999        1    41401            9\n",
            "3    10035185  22580999        9     3899            9\n",
            "4    10035185  22580999       11    V8532            9\n",
            "\n",
            "Prescriptions Data:\n",
            "   subject_id   hadm_id  pharmacy_id poe_id  poe_seq order_provider_id  \\\n",
            "0    10027602  28166872     27168639    NaN      NaN               NaN   \n",
            "1    10027602  28166872     40720238    NaN      NaN               NaN   \n",
            "2    10027602  28166872     62845687    NaN      NaN               NaN   \n",
            "3    10027602  28166872     24340150    NaN      NaN               NaN   \n",
            "4    10027602  28166872     14435820    NaN      NaN               NaN   \n",
            "\n",
            "             starttime stoptime drug_type              drug  ...  gsn ndc  \\\n",
            "0  2201-10-30 12:00:00      NaN      MAIN  Fentanyl Citrate  ...  NaN NaN   \n",
            "1  2201-10-30 12:00:00      NaN      MAIN  Fentanyl Citrate  ...  NaN NaN   \n",
            "2  2201-10-31 12:00:00      NaN      MAIN         Lorazepam  ...  NaN NaN   \n",
            "3  2201-10-30 12:00:00      NaN      MAIN         Midazolam  ...  NaN NaN   \n",
            "4  2201-10-30 12:00:00      NaN      MAIN         Midazolam  ...  NaN NaN   \n",
            "\n",
            "   prod_strength form_rx dose_val_rx dose_unit_rx form_val_disp  \\\n",
            "0            NaN     NaN         NaN          NaN           NaN   \n",
            "1            NaN     NaN         NaN          NaN           NaN   \n",
            "2            NaN     NaN         NaN          NaN           NaN   \n",
            "3            NaN     NaN         NaN          NaN           NaN   \n",
            "4            NaN     NaN         NaN          NaN           NaN   \n",
            "\n",
            "  form_unit_disp doses_per_24_hrs  route  \n",
            "0            NaN              NaN    NaN  \n",
            "1            NaN              NaN    NaN  \n",
            "2            NaN              NaN    NaN  \n",
            "3            NaN              NaN    NaN  \n",
            "4            NaN              NaN    NaN  \n",
            "\n",
            "[5 rows x 21 columns]\n"
          ]
        }
      ],
      "source": [
        "# Display the first few rows of each dataframe\n",
        "# These dataframes were instantiated earlier in the notebook\n",
        "print(\"Diagnoses Data:\")\n",
        "print(diagnoses.head())\n",
        "print(\"\\nPrescriptions Data:\")\n",
        "print(prescriptions.head())"
      ]
    },
    {
      "cell_type": "code",
      "execution_count": 16,
      "metadata": {},
      "outputs": [
        {
          "name": "stdout",
          "output_type": "stream",
          "text": [
            "\n",
            "Merged Data:\n",
            "   subject_id                                          icd_codes  \\\n",
            "0    10000032  [2761, V08, 2875, 3051, 5715, 496, 07071, 7895...   \n",
            "1    10001217  [V168, V161, 04109, 3485, 4019, 3484, 3240, 34...   \n",
            "2    10001725  [49390, 7291, 6185, 56400, 5641, E9352, 6186, ...   \n",
            "3    10002428  [4019, 29281, 4240, 00845, 1122, 7102, 73300, ...   \n",
            "4    10002495  [R310, N179, Z7901, Z86718, I214, A047, Z23, K...   \n",
            "\n",
            "                                               drugs  \n",
            "0  [Tiotropium Bromide, Tiotropium Bromide, Tiotr...  \n",
            "1  [Vial, Bag, OxycoDONE (Immediate Release) , Ox...  \n",
            "2  [Zolpidem Tartrate, Zolpidem Tartrate, Bag, Lo...  \n",
            "3  [Insulin, Insulin, Insulin, Multivitamins, Mul...  \n",
            "4  [Insulin, Insulin, Bag, Bag, Lidocaine Jelly 2...  \n"
          ]
        }
      ],
      "source": [
        "# Group diagnoses and prescriptions by patient and then merge the dataframes\n",
        "diagnoses_grouped = diagnoses.groupby('subject_id')['icd_code'].apply(list).reset_index(name='icd_codes')\n",
        "prescriptions_grouped = prescriptions.groupby('subject_id')['drug'].apply(list).reset_index(name='drugs')\n",
        "merged_data = pd.merge(diagnoses_grouped, prescriptions_grouped, on='subject_id', how='inner')\n",
        "\n",
        "# Display the merged data\n",
        "print(\"\\nMerged Data:\")\n",
        "print(merged_data.head())"
      ]
    },
    {
      "cell_type": "code",
      "execution_count": 17,
      "metadata": {},
      "outputs": [
        {
          "name": "stdout",
          "output_type": "stream",
          "text": [
            "   subject_id                                          icd_codes  \\\n",
            "0    10000032  [2761, V08, 2875, 3051, 5715, 496, 07071, 7895...   \n",
            "1    10001217  [V168, V161, 04109, 3485, 4019, 3484, 3240, 34...   \n",
            "2    10001725  [49390, 7291, 6185, 56400, 5641, E9352, 6186, ...   \n",
            "3    10002428  [4019, 29281, 4240, 00845, 1122, 7102, 73300, ...   \n",
            "4    10002495  [R310, N179, Z7901, Z86718, I214, A047, Z23, K...   \n",
            "\n",
            "                                               drugs  \n",
            "0  [tiotropium bromide, tiotropium bromide, tiotr...  \n",
            "1  [vial, bag, oxycodone (immediate release) , ox...  \n",
            "2  [zolpidem tartrate, zolpidem tartrate, bag, lo...  \n",
            "3  [insulin, insulin, insulin, multivitamins, mul...  \n",
            "4  [insulin, insulin, bag, bag, lidocaine jelly 2...  \n"
          ]
        }
      ],
      "source": [
        "# Convert ICD codes and drugs to strings\n",
        "# Changes strings to lowercase\n",
        "merged_data['icd_codes'] = merged_data['icd_codes'].apply(lambda x: [str(i) for i in x])\n",
        "merged_data['drugs'] = merged_data['drugs'].apply(lambda x: [str(i).lower() for i in x])\n",
        "print(merged_data.head())"
      ]
    },
    {
      "cell_type": "code",
      "execution_count": 18,
      "metadata": {},
      "outputs": [
        {
          "name": "stdout",
          "output_type": "stream",
          "text": [
            "['I132', 'E8120', 'H409', 'Z8571', '99811', '6253', 'A408', 'V1255', 'N319', 'V168', '1540', '42843', '3314', 'Z1611', '78791', 'T361X5A', '6826', 'N170', '2410', '20190', 'T8089XA', 'E8859', 'F1290', 'V4365', 'T501X5A', 'M4856XA', 'V1552', '7843', 'T17990A', 'S9032XA', 'E1152', 'E9320', 'Z515', 'V1011', '07070', 'J9610', 'D599', '6185', 'T370X5A', 'V1202', '9623', 'E8798', '99832', 'S72145A', '85221', '1759', '99674', 'Z8249', '2767', 'C3490', 'E60', 'V141', '42833', '04104', 'M720', 'R7881', 'E038', 'L97529', 'M25511', 'K5900', 'W1830XD', '44102', 'Z6826', 'Z9484', 'J159', '5939', 'I871', '2853', 'H53462', '8600', 'B182', '7904', 'I495', 'L0591', 'E887', 'S40022A', 'R112', 'Z86718', '3383', '3310', '2127', 'Z950', '5589', 'V431', 'S42291D', 'I4891', 'G931', '1977', 'E119', 'M19019', 'B9561', 'R45851', '49121', 'R634', 'E873', 'E872', '71596', 'I313', '75310', 'M545', 'M19012', '56789', 'I129', 'V6402', 'Z4502', '25080', '5849', 'Z961', 'K8020', 'E806', '1987', 'C3401', 'T383X1A', '5579', '5680', 'J9622', '73010', 'F329', 'I9581', 'Z5309', 'Z95820', '29181', '6926', '431', 'I9589', '56942', 'F1011', '28749', 'V620', '1543', '70722', '99604', '30390', 'Z681', 'K265', '4660', 'I5181', 'I97618', '6820', 'K660', '5855', '42832', 'W108XXA', 'V160', 'E8844', 'C6212', 'R680', 'K625', 'B348', '29284', 'E8770', '27651', '58389', 'Z6820', 'Z8711', '5809', 'K861', 'V0481', 'M726', 'G9340', '75169', 'I82422', '4168', 'B9689', '5845', 'F1910', '4829', '04102', 'Z6837', '60886', '4928', 'Z930', 'J90', '4150', 'D688', '99932', 'E9444', '86389', '1122', 'C9590', 'I82401', '2651', 'K316', '0389', '4568', '3489', 'J9809', 'R490', '6930', '0416', 'I81', 'V1009', 'Z8781', '5723', 'Q620', 'V4561', '45989', 'G629', '28860', 'E876', 'C9202', 'K3189', 'V8523', '3485', '37950', 'E9353', 'Y9289', 'I82412', 'K521', '55329', 'V6284', '4558', 'V8521', 'T8359XA', 'I480', 'V446', 'V1041', 'K284', '7840', 'M549', 'V1588', '53240', '1978', 'K7040', 'Z800', 'Z8639', 'K8520', 'T827XXA', '5934', '20501', 'M3500', '2752', 'K635', '0088', '7102', 'R64', 'E11649', 'Y92121', '5853', 'J95851', 'W208XXA', '4149', '2930', 'Y92488', '30391', 'R410', 'D6959', 'B9620', '0413', '61650', 'S20221A', '2555', 'E9600', 'R627', '9950', 'K659', '4870', 'I2582', '00845', 'N10', 'T465X5A', '71690', 'B952', '99830', 'D124', '07032', 'Z9049', 'R0789', '81201', '99657', '59970', 'M5489', '30590', '79021', 'T360X5A', '9961', 'M25512', '5180', 'V4986', 'E8499', '71535', '03843', 'E780', 'E8654', 'V5861', '1560', 'H3530', '9585', 'M19011', '3559', 'I5043', 'F17210', 'J9690', '7919', 'K5190', 'E875', 'E222', '11289', 'K7031', 'G40909', 'I2699', 'V4281', 'J910', 'A4189', 'E9063', '56981', 'C029', '51881', 'V4511', '28411', '59972', 'I69351', 'Y828', '70715', 'I69392', '7801', '81342', '27542', 'R188', '57450', '49390', 'I5033', 'Z9282', '1985', '99749', 'L03311', 'M940', 'M810', '430', 'I9789', 'V270XXA', 'E049', '2866', 'F447', '25082', 'E9347', 'S25512A', 'I671', 'K2960', 'I4581', '7823', 'R300', 'R6520', '43310', 'F5001', 'K7010', '34982', '7994', 'I2510', 'K5660', 'N390', '34550', '7213', 'M179', '2639', 'Z1621', '38010', 'G43109', '4809', '27652', 'D869', 'C211', '9982', 'Y92009', '8602', '412', 'I472', '99591', '42842', 'R61', '4264', 'M160', 'J15211', '4370', 'V1302', '2763', '78820', 'I69391', '4260', 'E9352', 'C73', 'E9289', 'R6521', 'F1020', 'R569', '2800', 'Z9012', 'J449', 'R740', 'Z8673', '4940', 'R159', '30393', '0388', '2397', 'F1994', 'E8782', '78729', 'E162', '3968', '4380', 'E9290', 'Z931', 'M351', 'I701', 'N179', 'C6292', '5730', 'Y834', '78909', 'V1279', '07071', 'V151', 'Z21', 'K5730', 'D72819', 'J441', 'Z7682', 'V08', 'V1072', 'E8497', '1983', 'I5022', 'J398', '53010', '2252', '2851', '5601', 'K567', '48241', 'E669', 'Z953', '31401', 'S22069A', 'R51', '78194', 'K5791', 'F17200', '6929', 'R000', 'M4854XA', '20500', 'B379', '2760', 'K7460', 'I69344', 'Z6838', 'R1013', '82111', '04119', '40491', '1971', '5533', '48242', 'S066X0A', 'D684', '1505', 'G44209', 'E9348', '30981', '78606', '04110', 'Z801', '28412', 'V153', 'G893', '73730', 'S030XXA', 'V1005', 'B1920', 'B9681', 'B961', '5771', '43811', 'Z9114', '5989', 'R918', '78442', 'R570', '7842', 'E7800', 'V4611', '1419', 'I120', 'Z1623', 'I69322', 'C786', 'E1121', '5762', 'K767', '78061', '99702', '4019', '83908', '2469', 'V8609XS', '29281', '1970', '2411', '2859', 'D62', 'D1802', 'S2232XA', '25040', '41071', 'T85694A', '04149', '6824', 'V1042', 'V667', '5400', '03842', 'G43909', '1571', 'F319', 'M533', 'E870', '78838', '78094', 'K255', 'V180', '81600', 'J810', 'I5023', 'S82251A', 'I5031', 'V4512', 'V1261', 'J9600', '78079', 'E860', 'K7011', 'F1099', 'F0390', 'K209', 'S240XXA', '30501', 'N401', 'V641', 'S22059A', 'Y848', '86100', 'T43505S', 'S2242XA', 'K222', '60001', 'K766', 'Z87820', '3682', '53550', 'R141', 'G8929', 'E46', '40300', 'M19072', 'Y92239', 'E8788', 'Z9911', 'V860', 'N189', 'Y92234', '9086', 'D689', 'M8008XA', '29411', '3393', '57512', '80702', 'R1319', '9584', 'Z6823', '51189', 'V4589', 'I427', 'V8739', 'A0472', 'B59', '56210', '3240', '71594', 'Z781', '70723', '78057', '5187', 'G3184', 'E0520', '29420', 'V1083', 'G935', 'K264', 'F1110', 'Z792', 'V454', 'R5081', 'F4329', 'V4581', 'B964', '5559', 'V8532', '78609', 'Z86711', 'E9393', 'Z6829', 'S3730XA', 'R21', 'T451X5A', 'R200', '43820', '7916', 'Y832', '36250', 'V1582', '7892', 'F309', 'Z923', 'E11621', 'R748', 'V103', 'V453', 'T8131XA', 'Z590', 'S36892A', 'E8700', '78829', '4241', 'K922', 'Z45018', '4259', '311', 'R001', 'S0990XA', '36201', '78451', 'K56600', '5110', 'R109', 'Y713', '03849', 'F3340', '1968', 'I724', '33520', 'E8339', '78552', 'E883', 'L409', 'T8119XA', 'R339', '1551', '85186', 'Y831', '41401', '30503', '51851', '80704', 'I6032', '7197', 'H1133', '30521', 'F05', 'I130', 'I308', 'R823', 'E912', 'N400', 'F209', '99859', 'Z915', '2511', 'L03114', 'K7030', 'G936', '45981', 'A084', 'H34239', 'Z91128', 'I482', 'Y838', '04109', 'V1253', 'T17920A', '2762', 'Z9181', 'K5790', 'F419', '04112', 'C946', '20210', 'K7681', 'E1142', 'I481', '3659', 'L97514', 'V5811', '78321', 'E8495', 'Z85810', 'S22068A', 'R638', 'R5383', '7804', 'V1351', '4373', '8449', 'R310', '486', '9331', '79029', 'Z79810', '5184', '5772', 'Z952', '53789', 'B966', 'Z992', 'I9752', 'Y842', '43889', 'R578', '29900', 'Z720', 'Y92129', 'F1210', 'E1151', '99594', '45620', '2910', 'V173', '56400', 'V163', 'R002', '4139', 'R1030', '5715', 'V5331', '34690', '2764', 'V4987', 'E9358', 'J942', '4561', 'Z7984', 'I97131', '56889', 'L97523', 'M542', '40390', 'S79912A', 'T383X6A', 'E8786', 'H540', 'I5021', 'R1310', 'T82868A', '46400', '42789', 'F449', '33812', '25060', 'L723', 'Z8674', 'B965', 'K565', '78039', '29574', 'F259', '1991', 'V1046', 'E1169', 'F200', '78722', 'K5903', 'R0902', '1179', 'H8110', 'I071', 'L97229', '25000', 'I340', 'G1221', '56722', 'V643', 'B3749', 'V8537', '1548', 'R2681', 'D61818', 'I272', 'Z66', 'F39', 'Z6833', 'V1301', '5722', 'F09', 'I959', '33818', 'I319', 'Z6824', '78052', 'R55', '7907', '34830', 'E8498', 'Z933', 'V1581', 'E874', '72402', 'F1019', 'R161', '5829', 'Z9981', '7852', '1625', 'J208', '4571', '25012', 'R4182', '1369', 'I97610', '71941', '85201', '53012', '40391', 'V851', 'V1079', '1123', 'R12', 'C3402', 'K2270', '4148', '7850', '2449', 'B181', '515', 'E1165', 'L851', 'F325', '28804', 'E8809', '78720', 'I081', 'E1140', 'E781', '25002', 'I951', '28529', 'S12600A', '4592', 'D649', 'N186', '25022', '6202', 'N200', '4846', 'M797', '56089', '72989', '7810', 'E9478', 'Z1639', '07054', 'N184', 'T402X5A', '73300', 'B441', '4739', 'I25118', 'T4275XA', 'B20', '86405', '5718', '44329', 'I714', '42731', '25541', '41519', 'D638', '48249', '6186', 'I5042', '30183', 'E1010', 'Z7982', 'Z6834', '43491', 'E8790', '78652', 'M47817', 'E118', '28419', 'M25519', 'R197', '7200', '78097', 'I82622', '496', 'T81718A', '3453', 'S22049A', 'E8768', '30301', 'W1830XA', '5305', '4589', 'V1551', 'F28', 'V462', 'K449', '2724', 'B009', '3331', '42821', '51889', '99933', 'K860', 'Z853', 'E871', 'Z433', 'I6340', '99592', 'Z6835', '3572', 'R1084', '53190', '5770', 'V1006', 'I4892', 'N183', '7210', '4271', '2989', '29520', '5781', '99931', 'I25119', '5693', '85220', 'K9589', 'I82612', 'K921', '86801', '30560', '5990', '7847', 'W19XXXA', '0417', '4254', '55320', '570', 'F1021', '4111', 'Z8701', '6961', '2869', '3051', '1980', 'Z23', 'E5112', 'L299', 'R1312', '30001', 'R34', 'Z8049', '4580', '1541', '78062', 'I110', 'K7290', '42612', '4473', 'G4733', 'I6521', 'N281', '7813', 'B356', '45383', '75249', 'R2240', 'J95811', '4471', 'T8249XA', 'E039', '7291', '5761', '78065', 'V169', 'G4700', '99809', 'E9331', 'E8150', 'I361', '8054', '71590', '4263', 'F4310', '1629', '8020', 'F10229', 'K289', '5720', 'V1271', '04184', 'F1220', 'I2602', '9168', '2753', 'S8012XA', 'R7989', 'I428', '33829', 'A4102', '9986', '27800', '4142', '71696', '0380', '1962', '70703', 'M1712', 'V4577', '5370', 'D735', 'K7201', 'C9110', '99731', '5641', '3575', 'M7071', 'R079', 'C92Z0', '2536', 'R488', '3569', 'I8510', '30000', 'E041', 'Z905', 'E59', '71536', 'V7283', '7830', 'S20222A', 'N141', '79902', 'F1490', 'V707', 'B9562', 'R5381', 'Y92230', '53085', '4588', 'E8781', '23871', 'Z89431', '5070', '30500', 'V1001', 'I739', 'Z7902', '2662', 'L853', 'V1052', 'I462', 'F10251', 'C9111', '2769', 'Z9884', '72889', '5856', '9962', 'L97511', '6827', 'E9319', 'V8541', 'I5032', 'K219', '5789', '2809', 'V8542', 'I080', 'V1272', '59969', 'I314', 'M40209', 'K648', 'S0262XA', 'S271XXA', '340', 'R4020', 'I350', 'A4151', 'L570', 'V4972', '7837', 'F10239', '5920', '4280', 'D509', '34839', 'D472', 'R5084', 'W010XXA', 'S40021A', 'S4992XA', 'R2232', '56989', '45182', 'Z794', '7851', 'G40901', '4239', '5168', '34831', 'F514', '44489', 'D46Z', 'J60', '78702', 'K047', '2749', 'J45909', 'M1000', 'V443', 'K661', 'Z79891', 'J811', '86121', '27669', 'C92Z2', '29633', 'M5430', 'F1410', 'G8194', '7873', 'Q6432', '53140', 'V161', '04185', 'Y92018', '5570', '4414', '53290', '59960', 'E8889', 'H548', 'I82621', 'V090', 'Y92238', '5768', 'L930', 'E861', '82009', 'J189', 'Z6832', 'C6290', '9971', 'Z4689', '71940', '41400', 'Z6841', 'J309', 'F1010', 'E6601', '86803', 'V4572', '78959', 'L271', '75612', 'V4586', '42732', '33819', 'T80219A', 'E8881', 'T504X5A', 'I70262', 'I69398', '7824', 'C7A8', 'V4364', '4779', 'T508X5A', 'Z89421', 'H6120', '4400', '78605', 'I309', '78701', 'T473X6A', 'L03116', 'E8580', 'Z85048', 'L281', '79092', '41189', 'Y92512', '1622', '3899', '5262', 'K649', 'V4579', 'J9811', 'K7469', '30553', 'I330', '5121', '5711', 'V5867', '80707', 'T814XXA', 'V4502', 'V6441', 'V8531', 'R600', 'D6481', 'E790', '2819', 'M719', 'K259', '2330', 'K311', 'L97419', 'Z85528', 'J690', '53081', '25062', '42769', '25050', 'V4571', 'V1082', 'Z981', '56409', 'A047', 'I509', 'Z8719', '41402', 'I10', 'W1839XA', '86401', 'I25110', '5733', 'I447', '36230', 'E785', 'J918', '4556', 'R571', '7224', '29530', 'Z85828', 'Z85850', '92320', '4401', 'N12', '7318', '72252', 'E278', '73027', '1120', '4293', '1741', 'C7B8', '3004', 'D696', 'J9601', '2761', '4240', '24900', 'I7789', '72888', 'F603', '80506', 'K7581', '8052', 'S0003XA', '4439', '587', 'V1254', 'Z980', 'V1204', '3940', 'I7102', '07044', '29532', '7885', '4820', 'H04123', 'V113', '3129', 'R3911', 'R1012', '60000', '78469', 'D631', 'R042', 'E0865', '79311', 'V422', '7802', 'M7981', '29680', 'R4701', 'E042', 'V1642', 'E8706', 'G92', 'I9751', 'E9342', '6822', 'X58XXXA', '42822', 'S06357A', 'E11628', 'K3580', 'Z955', 'I255', 'V0179', '71650', 'Z87891', '2768', 'T45515A', 'Z6836', '5712', 'H53143', 'S065X7A', '9243', '34600', 'G8191', 'D539', '42830', 'F29', 'M96831', 'Z96651', 'C7889', '2810', 'E9383', '04111', 'D329', '59654', 'R319', 'B370', 'I493', 'M7989', '1173', 'V8741', 'Z430', 'D702', '53560', 'I082', 'E8490', 'R791', 'V8535', 'Z8546', 'V441', '72403', 'M86171', 'I2720', '5778', '7906', 'V5832', '5109', 'L89899', 'K6389', 'Z95810', 'J952', 'I420', '79022', 'S2243XA', 'D721', '7530', '70400', 'V4501', '5119', 'B954', 'M5030', 'V140', '28521', 'D469', '34590', 'K7200', 'V8801', 'M47818', 'D709', 'E8708', '78830', '78009', 'L97519', '3898', 'S32029A', 'V552', '34290', 'M1990', 'E1122', 'E43', '78551', '75261', 'J9621', 'I214', 'K859', 'M109', 'Z5111', '5859', '61172', '82021', 'Z006', 'T8242XA', 'F323', 'Y929', '7295', '5921', '7245', '2720', 'G3109', 'S8011XA', 'I471', 'C9000', '9010', 'L97429', 'I6522', '79319', 'Z8547', 'E11622', 'V8533', 'J9691', '4238', '514', '38531', 'I82432', '20300', '32723', 'E1136', '29570', 'Z6830', 'I8511', 'F10129', '45829', 'I252', '6273', 'Z434', 'Z20828', 'V8536', '56723', '45385', 'I248', 'A419', 'D471', 'Z87442', 'I69354', '42823', 'H269', 'V5863', 'V4582', 'Z951', '78900', 'V600', '7905', 'Y040XXA', '5531', 'R509', 'D89813', 'V5866', 'D630', '29660', '3970', '0383', '7260', '2875', 'I69893', 'Y92199', 'Z7901', '3484', 'V499XXA', '1121']\n"
          ]
        }
      ],
      "source": [
        "# Create a vocabulary of unique ICD codes\n",
        "icd_vocab = set()\n",
        "for icd_list in merged_data['icd_codes']:\n",
        "    icd_vocab.update(icd_list)\n",
        "icd_vocab = list(icd_vocab)\n",
        "print(icd_vocab)"
      ]
    },
    {
      "cell_type": "code",
      "execution_count": 19,
      "metadata": {},
      "outputs": [
        {
          "name": "stdout",
          "output_type": "stream",
          "text": [
            "['metamucil fiber singles', 'labetalol', 'multivitamin iv', 'phenobarbital ', 'ursodiol', 'ciprofloxacin 0.3% ophth soln', 'cytarabine', 'phenobarbital alcohol withdrawal dose taper (days 2-7)', 'desmopressin acetate', 'neostigmine', 'aspirin ec', 'brimonidine tartrate 0.15% ophth.', 'amino acids 5%-dextrose 15%', 'citrate dextrose 3% (acd-a) crrt', 'soln', 'bupivacaine 0.1%', 'dronabinol', 'lidocaine-prilocaine', 'digoxin', 'lorazepam', 'carvedilol', 'prednisone', 'lactulose enema', 'lidocaine 0.5%', 'benzonatate', 'amoxicillin-clavulanic acid', 'piperacillin-tazobactam', 'calcium gluconate sliding scale (critical care-ionized calcium)', 'prochlorperazine', 'ivermectin', 'tobramycin sulfate', 'metoprolol succinate xl', 'heparin flush (10 units/ml)', 'ferrous sulfate (liquid)', 'maalox/lidocaine', 'dorzolamide 2%/timolol 0.5% ophth.', 'neomycin-polymyxin-bacitracin', 'iso-osmotic dextrose', 'pregabalin', 'sw', 'glucose gel', 'ipratropium bromide mdi', 'dorzolamide 2% ophth. soln.', 'rocuronium', 'glycopyrrolate (cvicu reversal protocol)', 'prasugrel', 'ipratropium-albuterol neb', 'quetiapine fumarate', 'amitriptyline', 'heparin flush (100 units/ml)', 'cefazolin', 'avapro', 'pancrelipase 5000', 'fish oil (omega 3)', 'yellow cadd cassette', 'gentamicin', 'ramelteon', 'meperidine', 'acetaminophen (liquid)', 'metronidazole', 'amiodarone', 'riluzole', 'nitroglycerin ointment  2%', 'nephrocaps', 'dofetilide', 'click change <--- to choose a base solution', 'diltiazem', 'amantadine', 'potassium chl 20 meq / 1000 ml d5lr', 'loperamide', 'oxycodone-acetaminophen (5mg-325mg)', 'dexamethasone', 'dexamethasone sod phosphate', 'aminocaproic acid', 'glipizide', 'esmolol', 'fleet enema', 'methylphenidate (ritalin)', 'midazolam', 'prismasate (b22 k4)', 'miconazole 2% cream', 'pamidronate', 'metronidazole (flagyl)', 'influenza vaccine quadrivalent', 'raltegravir', 'torsemide', 'mupirocin nasal ointment 2%', 'fluoxetine', '23.4% sodium chloride', 'insulin human regular', 'vancomycin enema', 'dexamethasone ophthalmic soln 0.1%', 'albumin 5%', 'lisinopril', 'filgrastim', 'iohexol 240', 'triamcinolone acetonide 0.1% ointment', 'esomeprazole sodium', 'fentanyl citrate', 'aztreonam', 'cyanocobalamin', 'enalaprilat', 'meropenem', 'albumin 5% (25g / 500ml)', 'aspirin 81 mg ', 'fluticasone-salmeterol diskus (100/50)', 'racepinephrine', 'vitamin b complex w/c', 'heparin (hemodialysis)', 'insulin regular human (u-500)', 'tricor', 'sodium chloride', 'diltiazem extended-release', 'lidocaine jelly 2% (glydo)', 'nitroglycerin sl', 'phenytoin sodium', 'psyllium powder', 'albumin 5% ', 'estrogens conjugated', 'pantoprazole', 'daptomycin', 'rivaroxaban', 'chloraseptic throat spray', 'magnesium oxide', 'heparin (iabp)', 'protamine sulfate', 'glycopyrrolate', 'potassium chl 40 meq / 1000 ml d5ns', 'etoposide', 'metoprolol tartrate', 'heparin flush (1000 units/ml)', 'triamcinolone acetonide 0.1% cream', 'methylnaltrexone', 'acetazolamide', 'hydrochlorothiazide', 'acetaminophen w/codeine', 'sarna lotion', 'acetaminophen', 'valsartan', 'lidocaine 5% patch', 'blue cadd cassette', 'oxycodone liquid', 'atorvastatin', 'atenolol', 'naloxone', 'divalproex sod. sprinkles', 'thrombin', 'amlodipine', 'clarithromycin', 'hydrocodone-acetaminophen', 'syringe (sw)', 'gentamicin 0.3% ophth. soln', 'tuberculin protein', 'insulin pump (self administering medication)', 'clonidine patch 0.3 mg/24 hr', 'daunorubicin', 'ferrous gluconate', 'golytely', 'sodium chloride nasal', 'potassium chl 20 meq / 1000 ml d5ns', 'divalproex (delayed release)', 'captopril', 'verapamil', 'morphine sulfate (oral soln.)', 'vecuronium bromide', 'prazosin', 'dobutamine', 'phenazopyridine', 'ascorbic acid', 'tigecycline', 'ziprasidone hydrochloride', '0.9% nacl (excel/viaflo bag)', 'nystatin', 'bupropion', 'enoxaparin sodium', 'lidocaine', 'loratadine', 'citalopram', 'chlorothiazide sodium', 'warfarin', 'mupirocin cream 2%', 'gastroview (diatrizoate meglumine & sodium)', 'phenytoin infatab', 'cefpodoxime proxetil', 'clopidogrel', '5% dextrose', 'nystatin-triamcinolone cream', 'glycerin supps', 'doxazosin', 'oxycodone (immediate release)', 'artificial tears', 'guaifenesin er', 'potassium chl 40 meq / 1000 ml ns', 'ketorolac', 'lenalidomide (revlimide)15mg ', 'insulin syringe u-500', 'levofloxacin', 'rasburicase', 'oxycodone-acetaminophen', 'olanzapine', 'alprazolam', 'vitamin d', 'hydrocortisone cream 2.5%', 'nexium', 'norepinephrine', 'docusate sodium (liquid)', 'sulfasalazine_', 'psyllium wafer', 'oxycodone-acetaminophen elixir', 'tamoxifen citrate', 'midodrine', 'ipratropium-albuterol inhalation spray', 'clonidine', 'tacrolimus suspension', 'amino acids 4.25%-dextrose 5%', 'carbamide peroxide 6.5%', 'hydromorphone-hp', 'neutra-phos', 'albuterol-ipratropium', 'fosaprepitant', 'topiramate (topamax)', 'bisacodyl', 'ampicillin-sulbactam', 'scopolamine patch', 'dabigatran etexilate', 'acetylcysteine (iv)', 'potassium chloride replacement (oncology)', 'epinephrine 1:1000', 'ibuprofen suspension', 'decitabine', 'neostigmine (cvicu reversal protocol)', 'chlorpheniramine maleate', 'cosyntropin', 'lansoprazole oral disintegrating tab', 'verapamil sr', 'losartan potassium', 'calcitonin salmon', 'tacrolimus', 'ziprasidone mesylate', 'risperidone', 'sodium glycerophosphate', 'd5ns', 'cisatracurium besylate', 'oxymetazoline', '0.83% sodium chloride', 'calcium acetate', 'vitamin a', 'carboplatin', 'vitamin d3', 'albuterol inhaler', 'lidocaine jelly 2%', 'hydrocodone-acetaminophen (5mg-325mg)', 'tizanidine', 'finasteride', 'thyroid', 'syringe (chemo)', 'sertraline', 'ruxolitinib', 'diazepam', 'dextrose 50%', 'oxycodone sr (oxycontin)', 'nifedipine', 'isosorbide dinitrate er', 'opium tincture', 'ceftriaxone', 'fentanyl pca', 'hyoscyamine', 'azithromycin ', 'fludarabine phosphate', 'spironolactone', 'docusate', 'isosorbide dinitrate', 'naproxen', 'androgel', 'lactulose', 'levalbuterol neb', 'lamotrigine', 'tiotropium bromide', 'calcium carbonate', 'diphenhydramine', 'potassium chloride (powder)', 'sacubitril-valsartan (24mg-26mg)', 'furosemide-heart failure', 'hydrocortisone na succ.', 'clevidipine', 'mirtazapine', 'heparin dwell (1000 units/ml)', 'micafungin', 'folic acid', 'isosorbide mononitrate (extended release)', 'lidocaine 1% (for picc/midline insertions)', 'readi-cat 2 (barium sulfate 2% suspension)', 'nitroglycerin', 'donepezil', 'miconazole nitrate vag cream 2%', 'felodipine', 'albuterol 0.083% neb soln', 'oxycodone (immediate release) ', 'terbinafine 1% cream', 'hydroxychloroquine sulfate', 'lidocaine jelly 2% (urojet)', 'fludrocortisone acetate', 'busulfan', 'calcium gluconate', 'ritonavir', 'januvia', 'filgrastim-sndz', 'propranolol la', 'hydralazine', 'nicotine patch', 'sterile water', 'ranitidine (liquid)', 'ezetimibe', 'famotidine', 'guaifenesin-codeine phosphate', 'baclofen', 'dexmedetomidine', 'glutamine', 'niacin sr', 'isosorbide mononitrate', 'ramipril', 'oxycodone--acetaminophen (5mg-325mg)', 'divalproex (extended release)', 'niacin', 'methylprednisolone sod succ ', 'apixaban', 'darunavir', 'acetaminophen-caff-butalbital', 'calcitriol', 'prismasate (b32 k2)', 'cetirizine', 'docusate ', 'sulfameth/trimethoprim ds', 'cepacol (sore throat lozenge)', 'hydrocodone-acetaminophen (5mg-500mg)', 'levetiracetam oral solution', 'sodium citrate 4%', 'glucagon', 'amoxicillin', 'succinylcholine', 'dextran 40 10% in ns', 'sotalol', 'cephalexin', 'lidocaine viscous 2%', 'clobetasol propionate 0.05% cream', 'milk of magnesia', 'allopurinol', 'salmeterol xinafoate diskus (50 mcg)', 'indomethacin', 'acetylcysteine 20%', 'potassium chloride replacement (critical care and oncology) ', 'doxercalciferol', 'latanoprost 0.005% ophth. soln.', 'polyethylene glycol', 'atropine sulfate', 'gemfibrozil', 'moxifloxacin', 'valproic acid', 'd10w', 'irbesartan', 'vitamin e', 'cepacol (menthol)', 'hydroxyzine', 'tramadol (ultram)', 'miconazole powder 2%', 'metolazone', 'guaifenesin-dextromethorphan', 'syringe (iso-osmotic dextrose)', 'nitrofurantoin monohyd (macrobid)', 'ranitidine', 'iso-osmotic sodium chloride', 'chlorthalidone', 'lidocaine 2%', 'sodium chloride 3% inhalation soln', 'digox', 'sodium polystyrene sulfonate', 'sodium fluoride 1.1% (dental gel)', 'sodium chloride 0.9%  flush', 'fluticasone propionate 110mcg', 'nitroprusside sodium', 'lr', 'pyridoxine', 'simvastatin', 'plasmalyte', 'timolol maleate 0.5%', 'azithromycin', 'enalapril maleate', 'rifaximin', 'humalog', 'sodium chloride 0.9%', 'aspirin', 'simethicone', 'calcium chloride', 'venetoclax', 'albumin 25% ', 'bengay cream', 'ceftazidime', 'sulfameth/trimethoprim ss', 'hydroxyurea', 'neomycin sulfate', 'clotrimazole', 'potassium chl 20 meq / 1000 ml ns', 'sulfamethoxazole-trimethoprim', 'voriconazole', 'd5w', '0.9% sodium chloride', 'carbamazepine', 'senna', 'thiamine', 'dextromethorphan-guaifenesin (sugar free)', 'syringe (0.9% sodium chloride)', 'emtricitabine-tenofovir (truvada)', 'methylprednisolone sodium succ', 'chlorhexidine gluconate 0.12% oral rinse', 'hydrocerin', 'vitamin b complex', 'febuxostat', 'metoclopramide', 'duloxetine', 'potassium phosphate', 'moviprep', 'sucralfate', 'cepastat (phenol) lozenge', 'nimodipine', 'clotrimazole cream', 'phenytoin sodium (iv)', 'ticagrelor', 'phenobarbital - icu alcohol withdrawal (loading dose 1) ', 'linezolid', 'ibuprofen', 'propranolol', 'insulin', 'artificial tears preserv. free', 'ciprofloxacin iv', 'tamsulosin', 'vitamin d3 ', 'furosemide', 'rosuvastatin calcium', 'xopenex neb', 'orthopedic solution', 'clobetasol propionate 0.05% ointment', 'albumin 5% (12.5g / 250ml)', 'isotonic sodium chloride', 'morphine sulfate ir', 'benztropine mesylate', 'buspirone', 'phytonadione', 'acetazolamide sodium', '0.45% sodium chloride', 'tucks hemorrhoidal oint 1%', 'sodium phosphate', 'influenza virus vaccine', 'olanzapine (disintegrating tablet)', 'vancomycin oral liquid', 'colchicine', 'insulin (regular) for hyperkalemia', 'nystatin cream', 'glyburide', 'fleet enema (mineral oil)', 'aluminum hydroxide suspension', 'zolpidem tartrate', 'phenobarbital', 'levothyroxine sodium', 'guaifenesin', 'maalox/diphenhydramine/lidocaine', 'erythromycin', 'aspirin (buffered)', 'heparin', 'hydrocortisone (rectal) 2.5% cream', 'pneumococcal 23-valent polysaccharide vaccine', 'methotrexate', 'multivitamins', 'ferrous sulfate', 'methadone', 'nifedipine cr', 'vancomycin', 'capsaicin 0.025%', 'levetiracetam', 'dexamethasone ophthalmic susp 0.1%', 'phenobarbital - icu alcohol withdrawal (loading dose 2 and 3)', 'sodium chloride 3% (hypertonic)', 'methylprednisolone', 'collagenase ointment', 'ipratropium bromide neb', 'acyclovir', 'metformin xr (glucophage xr)', 'quinidine gluconate e.r.', 'bag', 'dextrose 5%', 'metformin (glucophage)', 'ondansetron odt', 'phosphorus', 'glipizide xl', 'caphosol', 'alteplase', 'ampicillin sodium', 'cyclobenzaprine', 'artificial tear ointment', 'ondansetron', 'escitalopram oxalate', 'd5 1/2ns', 'triamcinolone acetonide 0.025% cream', 'meclizine', 'clonidine patch 0.2 mg/24 hr', 'vasopressin', 'docusate sodium', 'nicardipine iv', 'bupropion (sustained release)', 'atropine sulfate 1%', 'aquaphor ointment', 'insulin glargine  (cvicu protocol)', 'nicotine polacrilex', 'idarubicin', '*nf* ertapenem sodium', 'mannitol 20%', 'potassium chloride', 'ketamine (for intubation)', 'morphine sulfate', 'd5lr', 'acetaminophen iv', 'd5 1/4ns', 'hepatitis b vaccine', 'fosphenytoin', 'fenofibrate', 'cinacalcet', 'diazepam - ciwa protocol', 'mupirocin ointment 2%', 'sevelamer carbonate', 'phenytoin (suspension)', 'phenobarbital - icu alcohol withdrawal (initial load / rescue dose)', 'ns', 'ciprofloxacin hcl', 'pravastatin', 'hydromorphone (dilaudid)', 'phenytoin', 'bumetanide', 'promethazine', 'potassium chl 20 meq / 1000 ml d5 1/2 ns', 'alteplase (catheter clearance)', 'gabapentin', 'clindamycin', 'trazodone', 'methimazole', 'fexofenadine', 'sodium bicarbonate', 'omeprazole', 'fluticasone propionate nasal', 'morphine sulfate (oral solution) 2 mg/ml', 'potassium chl 40 meq / 1000 ml d5 1/2 ns', 'propofol', 'multivitamins w/minerals', 'fentanyl patch', 'nadolol', 'heparin (crrt machine priming)', 'epinephrine', 'epoetin alfa', 'heparin sodium', 'mitoxantrone', 'ibrutinib', 'paroxetine', 'ambisome', 'psyllium', 'prednisolone acetate 1% ophth. susp.', 'methocarbamol', 'oseltamivir', 'nystatin oral suspension', 'octreotide acetate', 'doxycycline hyclate', 'fluticasone-salmeterol diskus (250/50) ', 'hydrocortisone ', 'cefepime', 'albumin 25% (12.5g / 50ml)', 'erythromycin 0.5% ophth oint', 'zinc sulfate', 'ropivacaine 0.2%', 'aluminum-magnesium hydrox.-simethicone', 'hemorrhoidal suppository', 'dopamine', 'haloperidol', 'soln.', 'adde', 'pseudoephedrine', 'vial', 'phenylephrine', '0.9% sodium chloride (mini bag plus)', 'hydromorphone', '5% dextrose (excel bag)', 'lidocaine 1%', 'belladonna & opium (16.2/30mg)', 'magnesium sulfate', 'bupropion xl (once daily)', 'milrinone', 'fluconazole', 'tramadol', 'ferric gluconate', 'pneumococcal vac polyvalent', 'trimethoprim', 'lactated ringers', 'brimonidine', 'morphine sr (ms contin)', 'perphenazine', 'clonazepam', 'magnesium citrate', 'syringe']\n"
          ]
        }
      ],
      "source": [
        "# Create a vocabulary of unique drugs\n",
        "drug_vocab = set()\n",
        "for drug_list in merged_data['drugs']:\n",
        "    drug_vocab.update(drug_list)\n",
        "drug_vocab = list(drug_vocab)\n",
        "print(drug_vocab)"
      ]
    },
    {
      "cell_type": "code",
      "execution_count": 20,
      "metadata": {},
      "outputs": [
        {
          "name": "stdout",
          "output_type": "stream",
          "text": [
            "Number of unique ICD codes: 1472\n",
            "Number of unique drugs: 604\n"
          ]
        }
      ],
      "source": [
        "# Count the number of unique ICD codes and drugs\n",
        "print(f\"Number of unique ICD codes: {len(icd_vocab)}\")\n",
        "print(f\"Number of unique drugs: {len(drug_vocab)}\")"
      ]
    },
    {
      "cell_type": "code",
      "execution_count": 21,
      "metadata": {},
      "outputs": [
        {
          "name": "stdout",
          "output_type": "stream",
          "text": [
            "{'I132': 0, 'E8120': 1, 'H409': 2, 'Z8571': 3, '99811': 4, '6253': 5, 'A408': 6, 'V1255': 7, 'N319': 8, 'V168': 9, '1540': 10, '42843': 11, '3314': 12, 'Z1611': 13, '78791': 14, 'T361X5A': 15, '6826': 16, 'N170': 17, '2410': 18, '20190': 19, 'T8089XA': 20, 'E8859': 21, 'F1290': 22, 'V4365': 23, 'T501X5A': 24, 'M4856XA': 25, 'V1552': 26, '7843': 27, 'T17990A': 28, 'S9032XA': 29, 'E1152': 30, 'E9320': 31, 'Z515': 32, 'V1011': 33, '07070': 34, 'J9610': 35, 'D599': 36, '6185': 37, 'T370X5A': 38, 'V1202': 39, '9623': 40, 'E8798': 41, '99832': 42, 'S72145A': 43, '85221': 44, '1759': 45, '99674': 46, 'Z8249': 47, '2767': 48, 'C3490': 49, 'E60': 50, 'V141': 51, '42833': 52, '04104': 53, 'M720': 54, 'R7881': 55, 'E038': 56, 'L97529': 57, 'M25511': 58, 'K5900': 59, 'W1830XD': 60, '44102': 61, 'Z6826': 62, 'Z9484': 63, 'J159': 64, '5939': 65, 'I871': 66, '2853': 67, 'H53462': 68, '8600': 69, 'B182': 70, '7904': 71, 'I495': 72, 'L0591': 73, 'E887': 74, 'S40022A': 75, 'R112': 76, 'Z86718': 77, '3383': 78, '3310': 79, '2127': 80, 'Z950': 81, '5589': 82, 'V431': 83, 'S42291D': 84, 'I4891': 85, 'G931': 86, '1977': 87, 'E119': 88, 'M19019': 89, 'B9561': 90, 'R45851': 91, '49121': 92, 'R634': 93, 'E873': 94, 'E872': 95, '71596': 96, 'I313': 97, '75310': 98, 'M545': 99, 'M19012': 100, '56789': 101, 'I129': 102, 'V6402': 103, 'Z4502': 104, '25080': 105, '5849': 106, 'Z961': 107, 'K8020': 108, 'E806': 109, '1987': 110, 'C3401': 111, 'T383X1A': 112, '5579': 113, '5680': 114, 'J9622': 115, '73010': 116, 'F329': 117, 'I9581': 118, 'Z5309': 119, 'Z95820': 120, '29181': 121, '6926': 122, '431': 123, 'I9589': 124, '56942': 125, 'F1011': 126, '28749': 127, 'V620': 128, '1543': 129, '70722': 130, '99604': 131, '30390': 132, 'Z681': 133, 'K265': 134, '4660': 135, 'I5181': 136, 'I97618': 137, '6820': 138, 'K660': 139, '5855': 140, '42832': 141, 'W108XXA': 142, 'V160': 143, 'E8844': 144, 'C6212': 145, 'R680': 146, 'K625': 147, 'B348': 148, '29284': 149, 'E8770': 150, '27651': 151, '58389': 152, 'Z6820': 153, 'Z8711': 154, '5809': 155, 'K861': 156, 'V0481': 157, 'M726': 158, 'G9340': 159, '75169': 160, 'I82422': 161, '4168': 162, 'B9689': 163, '5845': 164, 'F1910': 165, '4829': 166, '04102': 167, 'Z6837': 168, '60886': 169, '4928': 170, 'Z930': 171, 'J90': 172, '4150': 173, 'D688': 174, '99932': 175, 'E9444': 176, '86389': 177, '1122': 178, 'C9590': 179, 'I82401': 180, '2651': 181, 'K316': 182, '0389': 183, '4568': 184, '3489': 185, 'J9809': 186, 'R490': 187, '6930': 188, '0416': 189, 'I81': 190, 'V1009': 191, 'Z8781': 192, '5723': 193, 'Q620': 194, 'V4561': 195, '45989': 196, 'G629': 197, '28860': 198, 'E876': 199, 'C9202': 200, 'K3189': 201, 'V8523': 202, '3485': 203, '37950': 204, 'E9353': 205, 'Y9289': 206, 'I82412': 207, 'K521': 208, '55329': 209, 'V6284': 210, '4558': 211, 'V8521': 212, 'T8359XA': 213, 'I480': 214, 'V446': 215, 'V1041': 216, 'K284': 217, '7840': 218, 'M549': 219, 'V1588': 220, '53240': 221, '1978': 222, 'K7040': 223, 'Z800': 224, 'Z8639': 225, 'K8520': 226, 'T827XXA': 227, '5934': 228, '20501': 229, 'M3500': 230, '2752': 231, 'K635': 232, '0088': 233, '7102': 234, 'R64': 235, 'E11649': 236, 'Y92121': 237, '5853': 238, 'J95851': 239, 'W208XXA': 240, '4149': 241, '2930': 242, 'Y92488': 243, '30391': 244, 'R410': 245, 'D6959': 246, 'B9620': 247, '0413': 248, '61650': 249, 'S20221A': 250, '2555': 251, 'E9600': 252, 'R627': 253, '9950': 254, 'K659': 255, '4870': 256, 'I2582': 257, '00845': 258, 'N10': 259, 'T465X5A': 260, '71690': 261, 'B952': 262, '99830': 263, 'D124': 264, '07032': 265, 'Z9049': 266, 'R0789': 267, '81201': 268, '99657': 269, '59970': 270, 'M5489': 271, '30590': 272, '79021': 273, 'T360X5A': 274, '9961': 275, 'M25512': 276, '5180': 277, 'V4986': 278, 'E8499': 279, '71535': 280, '03843': 281, 'E780': 282, 'E8654': 283, 'V5861': 284, '1560': 285, 'H3530': 286, '9585': 287, 'M19011': 288, '3559': 289, 'I5043': 290, 'F17210': 291, 'J9690': 292, '7919': 293, 'K5190': 294, 'E875': 295, 'E222': 296, '11289': 297, 'K7031': 298, 'G40909': 299, 'I2699': 300, 'V4281': 301, 'J910': 302, 'A4189': 303, 'E9063': 304, '56981': 305, 'C029': 306, '51881': 307, 'V4511': 308, '28411': 309, '59972': 310, 'I69351': 311, 'Y828': 312, '70715': 313, 'I69392': 314, '7801': 315, '81342': 316, '27542': 317, 'R188': 318, '57450': 319, '49390': 320, 'I5033': 321, 'Z9282': 322, '1985': 323, '99749': 324, 'L03311': 325, 'M940': 326, 'M810': 327, '430': 328, 'I9789': 329, 'V270XXA': 330, 'E049': 331, '2866': 332, 'F447': 333, '25082': 334, 'E9347': 335, 'S25512A': 336, 'I671': 337, 'K2960': 338, 'I4581': 339, '7823': 340, 'R300': 341, 'R6520': 342, '43310': 343, 'F5001': 344, 'K7010': 345, '34982': 346, '7994': 347, 'I2510': 348, 'K5660': 349, 'N390': 350, '34550': 351, '7213': 352, 'M179': 353, '2639': 354, 'Z1621': 355, '38010': 356, 'G43109': 357, '4809': 358, '27652': 359, 'D869': 360, 'C211': 361, '9982': 362, 'Y92009': 363, '8602': 364, '412': 365, 'I472': 366, '99591': 367, '42842': 368, 'R61': 369, '4264': 370, 'M160': 371, 'J15211': 372, '4370': 373, 'V1302': 374, '2763': 375, '78820': 376, 'I69391': 377, '4260': 378, 'E9352': 379, 'C73': 380, 'E9289': 381, 'R6521': 382, 'F1020': 383, 'R569': 384, '2800': 385, 'Z9012': 386, 'J449': 387, 'R740': 388, 'Z8673': 389, '4940': 390, 'R159': 391, '30393': 392, '0388': 393, '2397': 394, 'F1994': 395, 'E8782': 396, '78729': 397, 'E162': 398, '3968': 399, '4380': 400, 'E9290': 401, 'Z931': 402, 'M351': 403, 'I701': 404, 'N179': 405, 'C6292': 406, '5730': 407, 'Y834': 408, '78909': 409, 'V1279': 410, '07071': 411, 'V151': 412, 'Z21': 413, 'K5730': 414, 'D72819': 415, 'J441': 416, 'Z7682': 417, 'V08': 418, 'V1072': 419, 'E8497': 420, '1983': 421, 'I5022': 422, 'J398': 423, '53010': 424, '2252': 425, '2851': 426, '5601': 427, 'K567': 428, '48241': 429, 'E669': 430, 'Z953': 431, '31401': 432, 'S22069A': 433, 'R51': 434, '78194': 435, 'K5791': 436, 'F17200': 437, '6929': 438, 'R000': 439, 'M4854XA': 440, '20500': 441, 'B379': 442, '2760': 443, 'K7460': 444, 'I69344': 445, 'Z6838': 446, 'R1013': 447, '82111': 448, '04119': 449, '40491': 450, '1971': 451, '5533': 452, '48242': 453, 'S066X0A': 454, 'D684': 455, '1505': 456, 'G44209': 457, 'E9348': 458, '30981': 459, '78606': 460, '04110': 461, 'Z801': 462, '28412': 463, 'V153': 464, 'G893': 465, '73730': 466, 'S030XXA': 467, 'V1005': 468, 'B1920': 469, 'B9681': 470, 'B961': 471, '5771': 472, '43811': 473, 'Z9114': 474, '5989': 475, 'R918': 476, '78442': 477, 'R570': 478, '7842': 479, 'E7800': 480, 'V4611': 481, '1419': 482, 'I120': 483, 'Z1623': 484, 'I69322': 485, 'C786': 486, 'E1121': 487, '5762': 488, 'K767': 489, '78061': 490, '99702': 491, '4019': 492, '83908': 493, '2469': 494, 'V8609XS': 495, '29281': 496, '1970': 497, '2411': 498, '2859': 499, 'D62': 500, 'D1802': 501, 'S2232XA': 502, '25040': 503, '41071': 504, 'T85694A': 505, '04149': 506, '6824': 507, 'V1042': 508, 'V667': 509, '5400': 510, '03842': 511, 'G43909': 512, '1571': 513, 'F319': 514, 'M533': 515, 'E870': 516, '78838': 517, '78094': 518, 'K255': 519, 'V180': 520, '81600': 521, 'J810': 522, 'I5023': 523, 'S82251A': 524, 'I5031': 525, 'V4512': 526, 'V1261': 527, 'J9600': 528, '78079': 529, 'E860': 530, 'K7011': 531, 'F1099': 532, 'F0390': 533, 'K209': 534, 'S240XXA': 535, '30501': 536, 'N401': 537, 'V641': 538, 'S22059A': 539, 'Y848': 540, '86100': 541, 'T43505S': 542, 'S2242XA': 543, 'K222': 544, '60001': 545, 'K766': 546, 'Z87820': 547, '3682': 548, '53550': 549, 'R141': 550, 'G8929': 551, 'E46': 552, '40300': 553, 'M19072': 554, 'Y92239': 555, 'E8788': 556, 'Z9911': 557, 'V860': 558, 'N189': 559, 'Y92234': 560, '9086': 561, 'D689': 562, 'M8008XA': 563, '29411': 564, '3393': 565, '57512': 566, '80702': 567, 'R1319': 568, '9584': 569, 'Z6823': 570, '51189': 571, 'V4589': 572, 'I427': 573, 'V8739': 574, 'A0472': 575, 'B59': 576, '56210': 577, '3240': 578, '71594': 579, 'Z781': 580, '70723': 581, '78057': 582, '5187': 583, 'G3184': 584, 'E0520': 585, '29420': 586, 'V1083': 587, 'G935': 588, 'K264': 589, 'F1110': 590, 'Z792': 591, 'V454': 592, 'R5081': 593, 'F4329': 594, 'V4581': 595, 'B964': 596, '5559': 597, 'V8532': 598, '78609': 599, 'Z86711': 600, 'E9393': 601, 'Z6829': 602, 'S3730XA': 603, 'R21': 604, 'T451X5A': 605, 'R200': 606, '43820': 607, '7916': 608, 'Y832': 609, '36250': 610, 'V1582': 611, '7892': 612, 'F309': 613, 'Z923': 614, 'E11621': 615, 'R748': 616, 'V103': 617, 'V453': 618, 'T8131XA': 619, 'Z590': 620, 'S36892A': 621, 'E8700': 622, '78829': 623, '4241': 624, 'K922': 625, 'Z45018': 626, '4259': 627, '311': 628, 'R001': 629, 'S0990XA': 630, '36201': 631, '78451': 632, 'K56600': 633, '5110': 634, 'R109': 635, 'Y713': 636, '03849': 637, 'F3340': 638, '1968': 639, 'I724': 640, '33520': 641, 'E8339': 642, '78552': 643, 'E883': 644, 'L409': 645, 'T8119XA': 646, 'R339': 647, '1551': 648, '85186': 649, 'Y831': 650, '41401': 651, '30503': 652, '51851': 653, '80704': 654, 'I6032': 655, '7197': 656, 'H1133': 657, '30521': 658, 'F05': 659, 'I130': 660, 'I308': 661, 'R823': 662, 'E912': 663, 'N400': 664, 'F209': 665, '99859': 666, 'Z915': 667, '2511': 668, 'L03114': 669, 'K7030': 670, 'G936': 671, '45981': 672, 'A084': 673, 'H34239': 674, 'Z91128': 675, 'I482': 676, 'Y838': 677, '04109': 678, 'V1253': 679, 'T17920A': 680, '2762': 681, 'Z9181': 682, 'K5790': 683, 'F419': 684, '04112': 685, 'C946': 686, '20210': 687, 'K7681': 688, 'E1142': 689, 'I481': 690, '3659': 691, 'L97514': 692, 'V5811': 693, '78321': 694, 'E8495': 695, 'Z85810': 696, 'S22068A': 697, 'R638': 698, 'R5383': 699, '7804': 700, 'V1351': 701, '4373': 702, '8449': 703, 'R310': 704, '486': 705, '9331': 706, '79029': 707, 'Z79810': 708, '5184': 709, '5772': 710, 'Z952': 711, '53789': 712, 'B966': 713, 'Z992': 714, 'I9752': 715, 'Y842': 716, '43889': 717, 'R578': 718, '29900': 719, 'Z720': 720, 'Y92129': 721, 'F1210': 722, 'E1151': 723, '99594': 724, '45620': 725, '2910': 726, 'V173': 727, '56400': 728, 'V163': 729, 'R002': 730, '4139': 731, 'R1030': 732, '5715': 733, 'V5331': 734, '34690': 735, '2764': 736, 'V4987': 737, 'E9358': 738, 'J942': 739, '4561': 740, 'Z7984': 741, 'I97131': 742, '56889': 743, 'L97523': 744, 'M542': 745, '40390': 746, 'S79912A': 747, 'T383X6A': 748, 'E8786': 749, 'H540': 750, 'I5021': 751, 'R1310': 752, 'T82868A': 753, '46400': 754, '42789': 755, 'F449': 756, '33812': 757, '25060': 758, 'L723': 759, 'Z8674': 760, 'B965': 761, 'K565': 762, '78039': 763, '29574': 764, 'F259': 765, '1991': 766, 'V1046': 767, 'E1169': 768, 'F200': 769, '78722': 770, 'K5903': 771, 'R0902': 772, '1179': 773, 'H8110': 774, 'I071': 775, 'L97229': 776, '25000': 777, 'I340': 778, 'G1221': 779, '56722': 780, 'V643': 781, 'B3749': 782, 'V8537': 783, '1548': 784, 'R2681': 785, 'D61818': 786, 'I272': 787, 'Z66': 788, 'F39': 789, 'Z6833': 790, 'V1301': 791, '5722': 792, 'F09': 793, 'I959': 794, '33818': 795, 'I319': 796, 'Z6824': 797, '78052': 798, 'R55': 799, '7907': 800, '34830': 801, 'E8498': 802, 'Z933': 803, 'V1581': 804, 'E874': 805, '72402': 806, 'F1019': 807, 'R161': 808, '5829': 809, 'Z9981': 810, '7852': 811, '1625': 812, 'J208': 813, '4571': 814, '25012': 815, 'R4182': 816, '1369': 817, 'I97610': 818, '71941': 819, '85201': 820, '53012': 821, '40391': 822, 'V851': 823, 'V1079': 824, '1123': 825, 'R12': 826, 'C3402': 827, 'K2270': 828, '4148': 829, '7850': 830, '2449': 831, 'B181': 832, '515': 833, 'E1165': 834, 'L851': 835, 'F325': 836, '28804': 837, 'E8809': 838, '78720': 839, 'I081': 840, 'E1140': 841, 'E781': 842, '25002': 843, 'I951': 844, '28529': 845, 'S12600A': 846, '4592': 847, 'D649': 848, 'N186': 849, '25022': 850, '6202': 851, 'N200': 852, '4846': 853, 'M797': 854, '56089': 855, '72989': 856, '7810': 857, 'E9478': 858, 'Z1639': 859, '07054': 860, 'N184': 861, 'T402X5A': 862, '73300': 863, 'B441': 864, '4739': 865, 'I25118': 866, 'T4275XA': 867, 'B20': 868, '86405': 869, '5718': 870, '44329': 871, 'I714': 872, '42731': 873, '25541': 874, '41519': 875, 'D638': 876, '48249': 877, '6186': 878, 'I5042': 879, '30183': 880, 'E1010': 881, 'Z7982': 882, 'Z6834': 883, '43491': 884, 'E8790': 885, '78652': 886, 'M47817': 887, 'E118': 888, '28419': 889, 'M25519': 890, 'R197': 891, '7200': 892, '78097': 893, 'I82622': 894, '496': 895, 'T81718A': 896, '3453': 897, 'S22049A': 898, 'E8768': 899, '30301': 900, 'W1830XA': 901, '5305': 902, '4589': 903, 'V1551': 904, 'F28': 905, 'V462': 906, 'K449': 907, '2724': 908, 'B009': 909, '3331': 910, '42821': 911, '51889': 912, '99933': 913, 'K860': 914, 'Z853': 915, 'E871': 916, 'Z433': 917, 'I6340': 918, '99592': 919, 'Z6835': 920, '3572': 921, 'R1084': 922, '53190': 923, '5770': 924, 'V1006': 925, 'I4892': 926, 'N183': 927, '7210': 928, '4271': 929, '2989': 930, '29520': 931, '5781': 932, '99931': 933, 'I25119': 934, '5693': 935, '85220': 936, 'K9589': 937, 'I82612': 938, 'K921': 939, '86801': 940, '30560': 941, '5990': 942, '7847': 943, 'W19XXXA': 944, '0417': 945, '4254': 946, '55320': 947, '570': 948, 'F1021': 949, '4111': 950, 'Z8701': 951, '6961': 952, '2869': 953, '3051': 954, '1980': 955, 'Z23': 956, 'E5112': 957, 'L299': 958, 'R1312': 959, '30001': 960, 'R34': 961, 'Z8049': 962, '4580': 963, '1541': 964, '78062': 965, 'I110': 966, 'K7290': 967, '42612': 968, '4473': 969, 'G4733': 970, 'I6521': 971, 'N281': 972, '7813': 973, 'B356': 974, '45383': 975, '75249': 976, 'R2240': 977, 'J95811': 978, '4471': 979, 'T8249XA': 980, 'E039': 981, '7291': 982, '5761': 983, '78065': 984, 'V169': 985, 'G4700': 986, '99809': 987, 'E9331': 988, 'E8150': 989, 'I361': 990, '8054': 991, '71590': 992, '4263': 993, 'F4310': 994, '1629': 995, '8020': 996, 'F10229': 997, 'K289': 998, '5720': 999, 'V1271': 1000, '04184': 1001, 'F1220': 1002, 'I2602': 1003, '9168': 1004, '2753': 1005, 'S8012XA': 1006, 'R7989': 1007, 'I428': 1008, '33829': 1009, 'A4102': 1010, '9986': 1011, '27800': 1012, '4142': 1013, '71696': 1014, '0380': 1015, '1962': 1016, '70703': 1017, 'M1712': 1018, 'V4577': 1019, '5370': 1020, 'D735': 1021, 'K7201': 1022, 'C9110': 1023, '99731': 1024, '5641': 1025, '3575': 1026, 'M7071': 1027, 'R079': 1028, 'C92Z0': 1029, '2536': 1030, 'R488': 1031, '3569': 1032, 'I8510': 1033, '30000': 1034, 'E041': 1035, 'Z905': 1036, 'E59': 1037, '71536': 1038, 'V7283': 1039, '7830': 1040, 'S20222A': 1041, 'N141': 1042, '79902': 1043, 'F1490': 1044, 'V707': 1045, 'B9562': 1046, 'R5381': 1047, 'Y92230': 1048, '53085': 1049, '4588': 1050, 'E8781': 1051, '23871': 1052, 'Z89431': 1053, '5070': 1054, '30500': 1055, 'V1001': 1056, 'I739': 1057, 'Z7902': 1058, '2662': 1059, 'L853': 1060, 'V1052': 1061, 'I462': 1062, 'F10251': 1063, 'C9111': 1064, '2769': 1065, 'Z9884': 1066, '72889': 1067, '5856': 1068, '9962': 1069, 'L97511': 1070, '6827': 1071, 'E9319': 1072, 'V8541': 1073, 'I5032': 1074, 'K219': 1075, '5789': 1076, '2809': 1077, 'V8542': 1078, 'I080': 1079, 'V1272': 1080, '59969': 1081, 'I314': 1082, 'M40209': 1083, 'K648': 1084, 'S0262XA': 1085, 'S271XXA': 1086, '340': 1087, 'R4020': 1088, 'I350': 1089, 'A4151': 1090, 'L570': 1091, 'V4972': 1092, '7837': 1093, 'F10239': 1094, '5920': 1095, '4280': 1096, 'D509': 1097, '34839': 1098, 'D472': 1099, 'R5084': 1100, 'W010XXA': 1101, 'S40021A': 1102, 'S4992XA': 1103, 'R2232': 1104, '56989': 1105, '45182': 1106, 'Z794': 1107, '7851': 1108, 'G40901': 1109, '4239': 1110, '5168': 1111, '34831': 1112, 'F514': 1113, '44489': 1114, 'D46Z': 1115, 'J60': 1116, '78702': 1117, 'K047': 1118, '2749': 1119, 'J45909': 1120, 'M1000': 1121, 'V443': 1122, 'K661': 1123, 'Z79891': 1124, 'J811': 1125, '86121': 1126, '27669': 1127, 'C92Z2': 1128, '29633': 1129, 'M5430': 1130, 'F1410': 1131, 'G8194': 1132, '7873': 1133, 'Q6432': 1134, '53140': 1135, 'V161': 1136, '04185': 1137, 'Y92018': 1138, '5570': 1139, '4414': 1140, '53290': 1141, '59960': 1142, 'E8889': 1143, 'H548': 1144, 'I82621': 1145, 'V090': 1146, 'Y92238': 1147, '5768': 1148, 'L930': 1149, 'E861': 1150, '82009': 1151, 'J189': 1152, 'Z6832': 1153, 'C6290': 1154, '9971': 1155, 'Z4689': 1156, '71940': 1157, '41400': 1158, 'Z6841': 1159, 'J309': 1160, 'F1010': 1161, 'E6601': 1162, '86803': 1163, 'V4572': 1164, '78959': 1165, 'L271': 1166, '75612': 1167, 'V4586': 1168, '42732': 1169, '33819': 1170, 'T80219A': 1171, 'E8881': 1172, 'T504X5A': 1173, 'I70262': 1174, 'I69398': 1175, '7824': 1176, 'C7A8': 1177, 'V4364': 1178, '4779': 1179, 'T508X5A': 1180, 'Z89421': 1181, 'H6120': 1182, '4400': 1183, '78605': 1184, 'I309': 1185, '78701': 1186, 'T473X6A': 1187, 'L03116': 1188, 'E8580': 1189, 'Z85048': 1190, 'L281': 1191, '79092': 1192, '41189': 1193, 'Y92512': 1194, '1622': 1195, '3899': 1196, '5262': 1197, 'K649': 1198, 'V4579': 1199, 'J9811': 1200, 'K7469': 1201, '30553': 1202, 'I330': 1203, '5121': 1204, '5711': 1205, 'V5867': 1206, '80707': 1207, 'T814XXA': 1208, 'V4502': 1209, 'V6441': 1210, 'V8531': 1211, 'R600': 1212, 'D6481': 1213, 'E790': 1214, '2819': 1215, 'M719': 1216, 'K259': 1217, '2330': 1218, 'K311': 1219, 'L97419': 1220, 'Z85528': 1221, 'J690': 1222, '53081': 1223, '25062': 1224, '42769': 1225, '25050': 1226, 'V4571': 1227, 'V1082': 1228, 'Z981': 1229, '56409': 1230, 'A047': 1231, 'I509': 1232, 'Z8719': 1233, '41402': 1234, 'I10': 1235, 'W1839XA': 1236, '86401': 1237, 'I25110': 1238, '5733': 1239, 'I447': 1240, '36230': 1241, 'E785': 1242, 'J918': 1243, '4556': 1244, 'R571': 1245, '7224': 1246, '29530': 1247, 'Z85828': 1248, 'Z85850': 1249, '92320': 1250, '4401': 1251, 'N12': 1252, '7318': 1253, '72252': 1254, 'E278': 1255, '73027': 1256, '1120': 1257, '4293': 1258, '1741': 1259, 'C7B8': 1260, '3004': 1261, 'D696': 1262, 'J9601': 1263, '2761': 1264, '4240': 1265, '24900': 1266, 'I7789': 1267, '72888': 1268, 'F603': 1269, '80506': 1270, 'K7581': 1271, '8052': 1272, 'S0003XA': 1273, '4439': 1274, '587': 1275, 'V1254': 1276, 'Z980': 1277, 'V1204': 1278, '3940': 1279, 'I7102': 1280, '07044': 1281, '29532': 1282, '7885': 1283, '4820': 1284, 'H04123': 1285, 'V113': 1286, '3129': 1287, 'R3911': 1288, 'R1012': 1289, '60000': 1290, '78469': 1291, 'D631': 1292, 'R042': 1293, 'E0865': 1294, '79311': 1295, 'V422': 1296, '7802': 1297, 'M7981': 1298, '29680': 1299, 'R4701': 1300, 'E042': 1301, 'V1642': 1302, 'E8706': 1303, 'G92': 1304, 'I9751': 1305, 'E9342': 1306, '6822': 1307, 'X58XXXA': 1308, '42822': 1309, 'S06357A': 1310, 'E11628': 1311, 'K3580': 1312, 'Z955': 1313, 'I255': 1314, 'V0179': 1315, '71650': 1316, 'Z87891': 1317, '2768': 1318, 'T45515A': 1319, 'Z6836': 1320, '5712': 1321, 'H53143': 1322, 'S065X7A': 1323, '9243': 1324, '34600': 1325, 'G8191': 1326, 'D539': 1327, '42830': 1328, 'F29': 1329, 'M96831': 1330, 'Z96651': 1331, 'C7889': 1332, '2810': 1333, 'E9383': 1334, '04111': 1335, 'D329': 1336, '59654': 1337, 'R319': 1338, 'B370': 1339, 'I493': 1340, 'M7989': 1341, '1173': 1342, 'V8741': 1343, 'Z430': 1344, 'D702': 1345, '53560': 1346, 'I082': 1347, 'E8490': 1348, 'R791': 1349, 'V8535': 1350, 'Z8546': 1351, 'V441': 1352, '72403': 1353, 'M86171': 1354, 'I2720': 1355, '5778': 1356, '7906': 1357, 'V5832': 1358, '5109': 1359, 'L89899': 1360, 'K6389': 1361, 'Z95810': 1362, 'J952': 1363, 'I420': 1364, '79022': 1365, 'S2243XA': 1366, 'D721': 1367, '7530': 1368, '70400': 1369, 'V4501': 1370, '5119': 1371, 'B954': 1372, 'M5030': 1373, 'V140': 1374, '28521': 1375, 'D469': 1376, '34590': 1377, 'K7200': 1378, 'V8801': 1379, 'M47818': 1380, 'D709': 1381, 'E8708': 1382, '78830': 1383, '78009': 1384, 'L97519': 1385, '3898': 1386, 'S32029A': 1387, 'V552': 1388, '34290': 1389, 'M1990': 1390, 'E1122': 1391, 'E43': 1392, '78551': 1393, '75261': 1394, 'J9621': 1395, 'I214': 1396, 'K859': 1397, 'M109': 1398, 'Z5111': 1399, '5859': 1400, '61172': 1401, '82021': 1402, 'Z006': 1403, 'T8242XA': 1404, 'F323': 1405, 'Y929': 1406, '7295': 1407, '5921': 1408, '7245': 1409, '2720': 1410, 'G3109': 1411, 'S8011XA': 1412, 'I471': 1413, 'C9000': 1414, '9010': 1415, 'L97429': 1416, 'I6522': 1417, '79319': 1418, 'Z8547': 1419, 'E11622': 1420, 'V8533': 1421, 'J9691': 1422, '4238': 1423, '514': 1424, '38531': 1425, 'I82432': 1426, '20300': 1427, '32723': 1428, 'E1136': 1429, '29570': 1430, 'Z6830': 1431, 'I8511': 1432, 'F10129': 1433, '45829': 1434, 'I252': 1435, '6273': 1436, 'Z434': 1437, 'Z20828': 1438, 'V8536': 1439, '56723': 1440, '45385': 1441, 'I248': 1442, 'A419': 1443, 'D471': 1444, 'Z87442': 1445, 'I69354': 1446, '42823': 1447, 'H269': 1448, 'V5863': 1449, 'V4582': 1450, 'Z951': 1451, '78900': 1452, 'V600': 1453, '7905': 1454, 'Y040XXA': 1455, '5531': 1456, 'R509': 1457, 'D89813': 1458, 'V5866': 1459, 'D630': 1460, '29660': 1461, '3970': 1462, '0383': 1463, '7260': 1464, '2875': 1465, 'I69893': 1466, 'Y92199': 1467, 'Z7901': 1468, '3484': 1469, 'V499XXA': 1470, '1121': 1471}\n",
            "{'metamucil fiber singles': 0, 'labetalol': 1, 'multivitamin iv': 2, 'phenobarbital ': 3, 'ursodiol': 4, 'ciprofloxacin 0.3% ophth soln': 5, 'cytarabine': 6, 'phenobarbital alcohol withdrawal dose taper (days 2-7)': 7, 'desmopressin acetate': 8, 'neostigmine': 9, 'aspirin ec': 10, 'brimonidine tartrate 0.15% ophth.': 11, 'amino acids 5%-dextrose 15%': 12, 'citrate dextrose 3% (acd-a) crrt': 13, 'soln': 14, 'bupivacaine 0.1%': 15, 'dronabinol': 16, 'lidocaine-prilocaine': 17, 'digoxin': 18, 'lorazepam': 19, 'carvedilol': 20, 'prednisone': 21, 'lactulose enema': 22, 'lidocaine 0.5%': 23, 'benzonatate': 24, 'amoxicillin-clavulanic acid': 25, 'piperacillin-tazobactam': 26, 'calcium gluconate sliding scale (critical care-ionized calcium)': 27, 'prochlorperazine': 28, 'ivermectin': 29, 'tobramycin sulfate': 30, 'metoprolol succinate xl': 31, 'heparin flush (10 units/ml)': 32, 'ferrous sulfate (liquid)': 33, 'maalox/lidocaine': 34, 'dorzolamide 2%/timolol 0.5% ophth.': 35, 'neomycin-polymyxin-bacitracin': 36, 'iso-osmotic dextrose': 37, 'pregabalin': 38, 'sw': 39, 'glucose gel': 40, 'ipratropium bromide mdi': 41, 'dorzolamide 2% ophth. soln.': 42, 'rocuronium': 43, 'glycopyrrolate (cvicu reversal protocol)': 44, 'prasugrel': 45, 'ipratropium-albuterol neb': 46, 'quetiapine fumarate': 47, 'amitriptyline': 48, 'heparin flush (100 units/ml)': 49, 'cefazolin': 50, 'avapro': 51, 'pancrelipase 5000': 52, 'fish oil (omega 3)': 53, 'yellow cadd cassette': 54, 'gentamicin': 55, 'ramelteon': 56, 'meperidine': 57, 'acetaminophen (liquid)': 58, 'metronidazole': 59, 'amiodarone': 60, 'riluzole': 61, 'nitroglycerin ointment  2%': 62, 'nephrocaps': 63, 'dofetilide': 64, 'click change <--- to choose a base solution': 65, 'diltiazem': 66, 'amantadine': 67, 'potassium chl 20 meq / 1000 ml d5lr': 68, 'loperamide': 69, 'oxycodone-acetaminophen (5mg-325mg)': 70, 'dexamethasone': 71, 'dexamethasone sod phosphate': 72, 'aminocaproic acid': 73, 'glipizide': 74, 'esmolol': 75, 'fleet enema': 76, 'methylphenidate (ritalin)': 77, 'midazolam': 78, 'prismasate (b22 k4)': 79, 'miconazole 2% cream': 80, 'pamidronate': 81, 'metronidazole (flagyl)': 82, 'influenza vaccine quadrivalent': 83, 'raltegravir': 84, 'torsemide': 85, 'mupirocin nasal ointment 2%': 86, 'fluoxetine': 87, '23.4% sodium chloride': 88, 'insulin human regular': 89, 'vancomycin enema': 90, 'dexamethasone ophthalmic soln 0.1%': 91, 'albumin 5%': 92, 'lisinopril': 93, 'filgrastim': 94, 'iohexol 240': 95, 'triamcinolone acetonide 0.1% ointment': 96, 'esomeprazole sodium': 97, 'fentanyl citrate': 98, 'aztreonam': 99, 'cyanocobalamin': 100, 'enalaprilat': 101, 'meropenem': 102, 'albumin 5% (25g / 500ml)': 103, 'aspirin 81 mg ': 104, 'fluticasone-salmeterol diskus (100/50)': 105, 'racepinephrine': 106, 'vitamin b complex w/c': 107, 'heparin (hemodialysis)': 108, 'insulin regular human (u-500)': 109, 'tricor': 110, 'sodium chloride': 111, 'diltiazem extended-release': 112, 'lidocaine jelly 2% (glydo)': 113, 'nitroglycerin sl': 114, 'phenytoin sodium': 115, 'psyllium powder': 116, 'albumin 5% ': 117, 'estrogens conjugated': 118, 'pantoprazole': 119, 'daptomycin': 120, 'rivaroxaban': 121, 'chloraseptic throat spray': 122, 'magnesium oxide': 123, 'heparin (iabp)': 124, 'protamine sulfate': 125, 'glycopyrrolate': 126, 'potassium chl 40 meq / 1000 ml d5ns': 127, 'etoposide': 128, 'metoprolol tartrate': 129, 'heparin flush (1000 units/ml)': 130, 'triamcinolone acetonide 0.1% cream': 131, 'methylnaltrexone': 132, 'acetazolamide': 133, 'hydrochlorothiazide': 134, 'acetaminophen w/codeine': 135, 'sarna lotion': 136, 'acetaminophen': 137, 'valsartan': 138, 'lidocaine 5% patch': 139, 'blue cadd cassette': 140, 'oxycodone liquid': 141, 'atorvastatin': 142, 'atenolol': 143, 'naloxone': 144, 'divalproex sod. sprinkles': 145, 'thrombin': 146, 'amlodipine': 147, 'clarithromycin': 148, 'hydrocodone-acetaminophen': 149, 'syringe (sw)': 150, 'gentamicin 0.3% ophth. soln': 151, 'tuberculin protein': 152, 'insulin pump (self administering medication)': 153, 'clonidine patch 0.3 mg/24 hr': 154, 'daunorubicin': 155, 'ferrous gluconate': 156, 'golytely': 157, 'sodium chloride nasal': 158, 'potassium chl 20 meq / 1000 ml d5ns': 159, 'divalproex (delayed release)': 160, 'captopril': 161, 'verapamil': 162, 'morphine sulfate (oral soln.)': 163, 'vecuronium bromide': 164, 'prazosin': 165, 'dobutamine': 166, 'phenazopyridine': 167, 'ascorbic acid': 168, 'tigecycline': 169, 'ziprasidone hydrochloride': 170, '0.9% nacl (excel/viaflo bag)': 171, 'nystatin': 172, 'bupropion': 173, 'enoxaparin sodium': 174, 'lidocaine': 175, 'loratadine': 176, 'citalopram': 177, 'chlorothiazide sodium': 178, 'warfarin': 179, 'mupirocin cream 2%': 180, 'gastroview (diatrizoate meglumine & sodium)': 181, 'phenytoin infatab': 182, 'cefpodoxime proxetil': 183, 'clopidogrel': 184, '5% dextrose': 185, 'nystatin-triamcinolone cream': 186, 'glycerin supps': 187, 'doxazosin': 188, 'oxycodone (immediate release)': 189, 'artificial tears': 190, 'guaifenesin er': 191, 'potassium chl 40 meq / 1000 ml ns': 192, 'ketorolac': 193, 'lenalidomide (revlimide)15mg ': 194, 'insulin syringe u-500': 195, 'levofloxacin': 196, 'rasburicase': 197, 'oxycodone-acetaminophen': 198, 'olanzapine': 199, 'alprazolam': 200, 'vitamin d': 201, 'hydrocortisone cream 2.5%': 202, 'nexium': 203, 'norepinephrine': 204, 'docusate sodium (liquid)': 205, 'sulfasalazine_': 206, 'psyllium wafer': 207, 'oxycodone-acetaminophen elixir': 208, 'tamoxifen citrate': 209, 'midodrine': 210, 'ipratropium-albuterol inhalation spray': 211, 'clonidine': 212, 'tacrolimus suspension': 213, 'amino acids 4.25%-dextrose 5%': 214, 'carbamide peroxide 6.5%': 215, 'hydromorphone-hp': 216, 'neutra-phos': 217, 'albuterol-ipratropium': 218, 'fosaprepitant': 219, 'topiramate (topamax)': 220, 'bisacodyl': 221, 'ampicillin-sulbactam': 222, 'scopolamine patch': 223, 'dabigatran etexilate': 224, 'acetylcysteine (iv)': 225, 'potassium chloride replacement (oncology)': 226, 'epinephrine 1:1000': 227, 'ibuprofen suspension': 228, 'decitabine': 229, 'neostigmine (cvicu reversal protocol)': 230, 'chlorpheniramine maleate': 231, 'cosyntropin': 232, 'lansoprazole oral disintegrating tab': 233, 'verapamil sr': 234, 'losartan potassium': 235, 'calcitonin salmon': 236, 'tacrolimus': 237, 'ziprasidone mesylate': 238, 'risperidone': 239, 'sodium glycerophosphate': 240, 'd5ns': 241, 'cisatracurium besylate': 242, 'oxymetazoline': 243, '0.83% sodium chloride': 244, 'calcium acetate': 245, 'vitamin a': 246, 'carboplatin': 247, 'vitamin d3': 248, 'albuterol inhaler': 249, 'lidocaine jelly 2%': 250, 'hydrocodone-acetaminophen (5mg-325mg)': 251, 'tizanidine': 252, 'finasteride': 253, 'thyroid': 254, 'syringe (chemo)': 255, 'sertraline': 256, 'ruxolitinib': 257, 'diazepam': 258, 'dextrose 50%': 259, 'oxycodone sr (oxycontin)': 260, 'nifedipine': 261, 'isosorbide dinitrate er': 262, 'opium tincture': 263, 'ceftriaxone': 264, 'fentanyl pca': 265, 'hyoscyamine': 266, 'azithromycin ': 267, 'fludarabine phosphate': 268, 'spironolactone': 269, 'docusate': 270, 'isosorbide dinitrate': 271, 'naproxen': 272, 'androgel': 273, 'lactulose': 274, 'levalbuterol neb': 275, 'lamotrigine': 276, 'tiotropium bromide': 277, 'calcium carbonate': 278, 'diphenhydramine': 279, 'potassium chloride (powder)': 280, 'sacubitril-valsartan (24mg-26mg)': 281, 'furosemide-heart failure': 282, 'hydrocortisone na succ.': 283, 'clevidipine': 284, 'mirtazapine': 285, 'heparin dwell (1000 units/ml)': 286, 'micafungin': 287, 'folic acid': 288, 'isosorbide mononitrate (extended release)': 289, 'lidocaine 1% (for picc/midline insertions)': 290, 'readi-cat 2 (barium sulfate 2% suspension)': 291, 'nitroglycerin': 292, 'donepezil': 293, 'miconazole nitrate vag cream 2%': 294, 'felodipine': 295, 'albuterol 0.083% neb soln': 296, 'oxycodone (immediate release) ': 297, 'terbinafine 1% cream': 298, 'hydroxychloroquine sulfate': 299, 'lidocaine jelly 2% (urojet)': 300, 'fludrocortisone acetate': 301, 'busulfan': 302, 'calcium gluconate': 303, 'ritonavir': 304, 'januvia': 305, 'filgrastim-sndz': 306, 'propranolol la': 307, 'hydralazine': 308, 'nicotine patch': 309, 'sterile water': 310, 'ranitidine (liquid)': 311, 'ezetimibe': 312, 'famotidine': 313, 'guaifenesin-codeine phosphate': 314, 'baclofen': 315, 'dexmedetomidine': 316, 'glutamine': 317, 'niacin sr': 318, 'isosorbide mononitrate': 319, 'ramipril': 320, 'oxycodone--acetaminophen (5mg-325mg)': 321, 'divalproex (extended release)': 322, 'niacin': 323, 'methylprednisolone sod succ ': 324, 'apixaban': 325, 'darunavir': 326, 'acetaminophen-caff-butalbital': 327, 'calcitriol': 328, 'prismasate (b32 k2)': 329, 'cetirizine': 330, 'docusate ': 331, 'sulfameth/trimethoprim ds': 332, 'cepacol (sore throat lozenge)': 333, 'hydrocodone-acetaminophen (5mg-500mg)': 334, 'levetiracetam oral solution': 335, 'sodium citrate 4%': 336, 'glucagon': 337, 'amoxicillin': 338, 'succinylcholine': 339, 'dextran 40 10% in ns': 340, 'sotalol': 341, 'cephalexin': 342, 'lidocaine viscous 2%': 343, 'clobetasol propionate 0.05% cream': 344, 'milk of magnesia': 345, 'allopurinol': 346, 'salmeterol xinafoate diskus (50 mcg)': 347, 'indomethacin': 348, 'acetylcysteine 20%': 349, 'potassium chloride replacement (critical care and oncology) ': 350, 'doxercalciferol': 351, 'latanoprost 0.005% ophth. soln.': 352, 'polyethylene glycol': 353, 'atropine sulfate': 354, 'gemfibrozil': 355, 'moxifloxacin': 356, 'valproic acid': 357, 'd10w': 358, 'irbesartan': 359, 'vitamin e': 360, 'cepacol (menthol)': 361, 'hydroxyzine': 362, 'tramadol (ultram)': 363, 'miconazole powder 2%': 364, 'metolazone': 365, 'guaifenesin-dextromethorphan': 366, 'syringe (iso-osmotic dextrose)': 367, 'nitrofurantoin monohyd (macrobid)': 368, 'ranitidine': 369, 'iso-osmotic sodium chloride': 370, 'chlorthalidone': 371, 'lidocaine 2%': 372, 'sodium chloride 3% inhalation soln': 373, 'digox': 374, 'sodium polystyrene sulfonate': 375, 'sodium fluoride 1.1% (dental gel)': 376, 'sodium chloride 0.9%  flush': 377, 'fluticasone propionate 110mcg': 378, 'nitroprusside sodium': 379, 'lr': 380, 'pyridoxine': 381, 'simvastatin': 382, 'plasmalyte': 383, 'timolol maleate 0.5%': 384, 'azithromycin': 385, 'enalapril maleate': 386, 'rifaximin': 387, 'humalog': 388, 'sodium chloride 0.9%': 389, 'aspirin': 390, 'simethicone': 391, 'calcium chloride': 392, 'venetoclax': 393, 'albumin 25% ': 394, 'bengay cream': 395, 'ceftazidime': 396, 'sulfameth/trimethoprim ss': 397, 'hydroxyurea': 398, 'neomycin sulfate': 399, 'clotrimazole': 400, 'potassium chl 20 meq / 1000 ml ns': 401, 'sulfamethoxazole-trimethoprim': 402, 'voriconazole': 403, 'd5w': 404, '0.9% sodium chloride': 405, 'carbamazepine': 406, 'senna': 407, 'thiamine': 408, 'dextromethorphan-guaifenesin (sugar free)': 409, 'syringe (0.9% sodium chloride)': 410, 'emtricitabine-tenofovir (truvada)': 411, 'methylprednisolone sodium succ': 412, 'chlorhexidine gluconate 0.12% oral rinse': 413, 'hydrocerin': 414, 'vitamin b complex': 415, 'febuxostat': 416, 'metoclopramide': 417, 'duloxetine': 418, 'potassium phosphate': 419, 'moviprep': 420, 'sucralfate': 421, 'cepastat (phenol) lozenge': 422, 'nimodipine': 423, 'clotrimazole cream': 424, 'phenytoin sodium (iv)': 425, 'ticagrelor': 426, 'phenobarbital - icu alcohol withdrawal (loading dose 1) ': 427, 'linezolid': 428, 'ibuprofen': 429, 'propranolol': 430, 'insulin': 431, 'artificial tears preserv. free': 432, 'ciprofloxacin iv': 433, 'tamsulosin': 434, 'vitamin d3 ': 435, 'furosemide': 436, 'rosuvastatin calcium': 437, 'xopenex neb': 438, 'orthopedic solution': 439, 'clobetasol propionate 0.05% ointment': 440, 'albumin 5% (12.5g / 250ml)': 441, 'isotonic sodium chloride': 442, 'morphine sulfate ir': 443, 'benztropine mesylate': 444, 'buspirone': 445, 'phytonadione': 446, 'acetazolamide sodium': 447, '0.45% sodium chloride': 448, 'tucks hemorrhoidal oint 1%': 449, 'sodium phosphate': 450, 'influenza virus vaccine': 451, 'olanzapine (disintegrating tablet)': 452, 'vancomycin oral liquid': 453, 'colchicine': 454, 'insulin (regular) for hyperkalemia': 455, 'nystatin cream': 456, 'glyburide': 457, 'fleet enema (mineral oil)': 458, 'aluminum hydroxide suspension': 459, 'zolpidem tartrate': 460, 'phenobarbital': 461, 'levothyroxine sodium': 462, 'guaifenesin': 463, 'maalox/diphenhydramine/lidocaine': 464, 'erythromycin': 465, 'aspirin (buffered)': 466, 'heparin': 467, 'hydrocortisone (rectal) 2.5% cream': 468, 'pneumococcal 23-valent polysaccharide vaccine': 469, 'methotrexate': 470, 'multivitamins': 471, 'ferrous sulfate': 472, 'methadone': 473, 'nifedipine cr': 474, 'vancomycin': 475, 'capsaicin 0.025%': 476, 'levetiracetam': 477, 'dexamethasone ophthalmic susp 0.1%': 478, 'phenobarbital - icu alcohol withdrawal (loading dose 2 and 3)': 479, 'sodium chloride 3% (hypertonic)': 480, 'methylprednisolone': 481, 'collagenase ointment': 482, 'ipratropium bromide neb': 483, 'acyclovir': 484, 'metformin xr (glucophage xr)': 485, 'quinidine gluconate e.r.': 486, 'bag': 487, 'dextrose 5%': 488, 'metformin (glucophage)': 489, 'ondansetron odt': 490, 'phosphorus': 491, 'glipizide xl': 492, 'caphosol': 493, 'alteplase': 494, 'ampicillin sodium': 495, 'cyclobenzaprine': 496, 'artificial tear ointment': 497, 'ondansetron': 498, 'escitalopram oxalate': 499, 'd5 1/2ns': 500, 'triamcinolone acetonide 0.025% cream': 501, 'meclizine': 502, 'clonidine patch 0.2 mg/24 hr': 503, 'vasopressin': 504, 'docusate sodium': 505, 'nicardipine iv': 506, 'bupropion (sustained release)': 507, 'atropine sulfate 1%': 508, 'aquaphor ointment': 509, 'insulin glargine  (cvicu protocol)': 510, 'nicotine polacrilex': 511, 'idarubicin': 512, '*nf* ertapenem sodium': 513, 'mannitol 20%': 514, 'potassium chloride': 515, 'ketamine (for intubation)': 516, 'morphine sulfate': 517, 'd5lr': 518, 'acetaminophen iv': 519, 'd5 1/4ns': 520, 'hepatitis b vaccine': 521, 'fosphenytoin': 522, 'fenofibrate': 523, 'cinacalcet': 524, 'diazepam - ciwa protocol': 525, 'mupirocin ointment 2%': 526, 'sevelamer carbonate': 527, 'phenytoin (suspension)': 528, 'phenobarbital - icu alcohol withdrawal (initial load / rescue dose)': 529, 'ns': 530, 'ciprofloxacin hcl': 531, 'pravastatin': 532, 'hydromorphone (dilaudid)': 533, 'phenytoin': 534, 'bumetanide': 535, 'promethazine': 536, 'potassium chl 20 meq / 1000 ml d5 1/2 ns': 537, 'alteplase (catheter clearance)': 538, 'gabapentin': 539, 'clindamycin': 540, 'trazodone': 541, 'methimazole': 542, 'fexofenadine': 543, 'sodium bicarbonate': 544, 'omeprazole': 545, 'fluticasone propionate nasal': 546, 'morphine sulfate (oral solution) 2 mg/ml': 547, 'potassium chl 40 meq / 1000 ml d5 1/2 ns': 548, 'propofol': 549, 'multivitamins w/minerals': 550, 'fentanyl patch': 551, 'nadolol': 552, 'heparin (crrt machine priming)': 553, 'epinephrine': 554, 'epoetin alfa': 555, 'heparin sodium': 556, 'mitoxantrone': 557, 'ibrutinib': 558, 'paroxetine': 559, 'ambisome': 560, 'psyllium': 561, 'prednisolone acetate 1% ophth. susp.': 562, 'methocarbamol': 563, 'oseltamivir': 564, 'nystatin oral suspension': 565, 'octreotide acetate': 566, 'doxycycline hyclate': 567, 'fluticasone-salmeterol diskus (250/50) ': 568, 'hydrocortisone ': 569, 'cefepime': 570, 'albumin 25% (12.5g / 50ml)': 571, 'erythromycin 0.5% ophth oint': 572, 'zinc sulfate': 573, 'ropivacaine 0.2%': 574, 'aluminum-magnesium hydrox.-simethicone': 575, 'hemorrhoidal suppository': 576, 'dopamine': 577, 'haloperidol': 578, 'soln.': 579, 'adde': 580, 'pseudoephedrine': 581, 'vial': 582, 'phenylephrine': 583, '0.9% sodium chloride (mini bag plus)': 584, 'hydromorphone': 585, '5% dextrose (excel bag)': 586, 'lidocaine 1%': 587, 'belladonna & opium (16.2/30mg)': 588, 'magnesium sulfate': 589, 'bupropion xl (once daily)': 590, 'milrinone': 591, 'fluconazole': 592, 'tramadol': 593, 'ferric gluconate': 594, 'pneumococcal vac polyvalent': 595, 'trimethoprim': 596, 'lactated ringers': 597, 'brimonidine': 598, 'morphine sr (ms contin)': 599, 'perphenazine': 600, 'clonazepam': 601, 'magnesium citrate': 602, 'syringe': 603}\n"
          ]
        }
      ],
      "source": [
        "# Create mappings from ICD codes and drugs to indices\n",
        "icd_to_index = {icd: idx for idx, icd in enumerate(icd_vocab)}\n",
        "drug_to_index = {drug: idx for idx, drug in enumerate(drug_vocab)}\n",
        "print(icd_to_index)\n",
        "print(drug_to_index)"
      ]
    },
    {
      "cell_type": "code",
      "execution_count": 22,
      "metadata": {},
      "outputs": [],
      "source": [
        "# Function to convert lists of ICD codes and drugs to indices\n",
        "def encode_data(data, icd_to_index, drug_to_index):\n",
        "    encoded_icd = [icd_to_index[icd] for icd in data['icd_codes']]\n",
        "    encoded_drugs = [drug_to_index[drug] for drug in data['drugs']]\n",
        "    return encoded_icd, encoded_drugs"
      ]
    },
    {
      "cell_type": "code",
      "execution_count": 23,
      "metadata": {},
      "outputs": [],
      "source": [
        "# Apply the encoding function\n",
        "merged_data['encoded_icd'], merged_data['encoded_drugs'] = zip(*merged_data.apply(lambda row: encode_data(row, icd_to_index, drug_to_index), axis=1))"
      ]
    },
    {
      "cell_type": "code",
      "execution_count": 24,
      "metadata": {},
      "outputs": [
        {
          "name": "stdout",
          "output_type": "stream",
          "text": [
            "\n",
            "Encoded Data:\n",
            "                                           icd_codes  \\\n",
            "0  [2761, V08, 2875, 3051, 5715, 496, 07071, 7895...   \n",
            "1  [V168, V161, 04109, 3485, 4019, 3484, 3240, 34...   \n",
            "2  [49390, 7291, 6185, 56400, 5641, E9352, 6186, ...   \n",
            "3  [4019, 29281, 4240, 00845, 1122, 7102, 73300, ...   \n",
            "4  [R310, N179, Z7901, Z86718, I214, A047, Z23, K...   \n",
            "\n",
            "                                         encoded_icd  \\\n",
            "0  [1264, 418, 1465, 954, 733, 895, 411, 1165, 89...   \n",
            "1  [9, 1136, 678, 203, 492, 1469, 578, 1087, 277,...   \n",
            "2  [320, 982, 37, 728, 1025, 379, 878, 432, 1223,...   \n",
            "3  [492, 496, 1265, 258, 178, 234, 863, 831, 932,...   \n",
            "4  [704, 405, 1468, 77, 1396, 1231, 956, 1075, 13...   \n",
            "\n",
            "                                               drugs  \\\n",
            "0  [tiotropium bromide, tiotropium bromide, tiotr...   \n",
            "1  [vial, bag, oxycodone (immediate release) , ox...   \n",
            "2  [zolpidem tartrate, zolpidem tartrate, bag, lo...   \n",
            "3  [insulin, insulin, insulin, multivitamins, mul...   \n",
            "4  [insulin, insulin, bag, bag, lidocaine jelly 2...   \n",
            "\n",
            "                                       encoded_drugs  \n",
            "0  [277, 277, 277, 296, 332, 436, 436, 436, 436, ...  \n",
            "1  [582, 487, 297, 297, 513, 467, 467, 597, 589, ...  \n",
            "2  [460, 460, 487, 19, 19, 19, 19, 19, 19, 498, 2...  \n",
            "3  [431, 431, 431, 471, 471, 217, 70, 277, 487, 4...  \n",
            "4  [431, 431, 487, 487, 300, 142, 184, 436, 337, ...  \n"
          ]
        }
      ],
      "source": [
        "# Print the encoded data\n",
        "print(\"\\nEncoded Data:\")\n",
        "print(merged_data[['icd_codes', 'encoded_icd', 'drugs', 'encoded_drugs']].head())"
      ]
    },
    {
      "cell_type": "code",
      "execution_count": 25,
      "metadata": {},
      "outputs": [],
      "source": [
        "# Pad the encoded ICD sequences to a fixed length\n",
        "def pad_sequence(sequence, max_length):\n",
        "    if len(sequence) >= max_length:\n",
        "        # Truncate if longer\n",
        "        return sequence[:max_length]  \n",
        "    else:\n",
        "        # Pad with 0 if shorter\n",
        "        return sequence + [0] * (max_length - len(sequence))  "
      ]
    },
    {
      "cell_type": "code",
      "execution_count": 26,
      "metadata": {},
      "outputs": [],
      "source": [
        "# Pad or truncate each sequence\n",
        "def pad_or_truncate(sequence, length):\n",
        "    if len(sequence) > length:\n",
        "        return sequence[:length]\n",
        "    elif len(sequence) < length:\n",
        "        return sequence + [0] * (length - len(sequence))\n",
        "    return sequence"
      ]
    },
    {
      "cell_type": "code",
      "execution_count": null,
      "metadata": {},
      "outputs": [],
      "source": [
        "# Define a maximum sequence length for ICD codes\n",
        "MAX_ICD_LENGTH = 10\n",
        "# Define the desired fixed length (e.g., 81)\n",
        "fixed_length = 81\n",
        "merged_data['encoded_drugs'] = merged_data['encoded_drugs'].apply(lambda x: pad_or_truncate(x, fixed_length))\n",
        "merged_data['padded_icd'] = merged_data['encoded_icd'].apply(lambda x: pad_sequence(x, MAX_ICD_LENGTH))"
      ]
    },
    {
      "cell_type": "code",
      "execution_count": 29,
      "metadata": {},
      "outputs": [],
      "source": [
        "# Convert data to PyTorch tensors\n",
        "icd_tensor = torch.tensor(np.array(merged_data['padded_icd'].tolist()), dtype=torch.long)\n",
        "drug_tensor = torch.tensor(merged_data['encoded_drugs'].tolist(), dtype=torch.long)"
      ]
    },
    {
      "cell_type": "code",
      "execution_count": 30,
      "metadata": {},
      "outputs": [],
      "source": [
        "# Split data into training and testing sets\n",
        "X_train, X_test, y_train, y_test = train_test_split(icd_tensor, drug_tensor, test_size=0.2, random_state=72)"
      ]
    },
    {
      "cell_type": "code",
      "execution_count": 31,
      "metadata": {},
      "outputs": [
        {
          "name": "stdout",
          "output_type": "stream",
          "text": [
            "\n",
            "Tensor Shapes:\n",
            "ICD Tensor Shape: torch.Size([100, 10])\n",
            "Drug Tensor Shape: torch.Size([100, 81])\n",
            "X_train Shape: torch.Size([80, 10])\n",
            "X_test Shape: torch.Size([20, 10])\n",
            "y_train Shape: torch.Size([80, 81])\n",
            "y_test Shape: torch.Size([20, 81])\n"
          ]
        }
      ],
      "source": [
        "# Is everything as expected?\n",
        "print(\"\\nTensor Shapes:\")\n",
        "print(\"ICD Tensor Shape:\", icd_tensor.shape)\n",
        "print(\"Drug Tensor Shape:\", drug_tensor.shape)\n",
        "print(\"X_train Shape:\", X_train.shape)\n",
        "print(\"X_test Shape:\", X_test.shape)\n",
        "print(\"y_train Shape:\", y_train.shape)\n",
        "print(\"y_test Shape:\", y_test.shape)"
      ]
    },
    {
      "cell_type": "code",
      "execution_count": 32,
      "metadata": {},
      "outputs": [],
      "source": [
        "class MedicationRecommender(nn.Module):\n",
        "    def __init__(self, num_icd_codes, num_drugs, embedding_dim, hidden_dim):\n",
        "        super(MedicationRecommender, self).__init__()\n",
        "        self.embedding = nn.Embedding(num_icd_codes, embedding_dim)\n",
        "        self.lstm = nn.LSTM(embedding_dim, hidden_dim, batch_first=True)\n",
        "        self.linear = nn.Linear(hidden_dim, num_drugs)\n",
        "\n",
        "    def forward(self, icd_codes):\n",
        "        embedded = self.embedding(icd_codes)\n",
        "        lstm_out, _ = self.lstm(embedded)\n",
        "        # Take the output from the last time step\n",
        "        last_time_step = lstm_out[:, -1, :]\n",
        "        output = self.linear(last_time_step)\n",
        "        return output"
      ]
    },
    {
      "cell_type": "code",
      "execution_count": 33,
      "metadata": {},
      "outputs": [],
      "source": [
        "# Model parameters\n",
        "num_icd_codes = len(icd_vocab)\n",
        "num_drugs = len(drug_vocab)\n",
        "embedding_dim = 64\n",
        "hidden_dim = 128"
      ]
    },
    {
      "cell_type": "code",
      "execution_count": null,
      "metadata": {},
      "outputs": [],
      "source": [
        "# Instantiating the model\n",
        "model = MedicationRecommender(num_icd_codes, num_drugs, embedding_dim, hidden_dim)"
      ]
    },
    {
      "cell_type": "code",
      "execution_count": 35,
      "metadata": {},
      "outputs": [],
      "source": [
        "# Loss function and optimizer\n",
        "criterion = nn.CrossEntropyLoss()\n",
        "optimizer = optim.Adam(model.parameters(), lr=0.001)"
      ]
    },
    {
      "cell_type": "code",
      "execution_count": null,
      "metadata": {},
      "outputs": [],
      "source": [
        "# Training loop\n",
        "epochs = 10\n",
        "for epoch in range(epochs):\n",
        "    # Zero the gradients\n",
        "    optimizer.zero_grad()  \n",
        "    # Forward pass\n",
        "    outputs = model(X_train)  \n",
        "    # Calculate the loss\n",
        "    loss = criterion(outputs, y_train)\n",
        "    # Backpropagation\n",
        "    loss.backward()  \n",
        "    # Update weights\n",
        "    optimizer.step()  \n",
        "\n",
        "    print(f'Epoch {epoch+1}/{epochs}, Loss: {loss.item():.4f}')\n",
        "\n",
        "print('Finished Training')"
      ]
    },
    {
      "cell_type": "code",
      "execution_count": null,
      "metadata": {},
      "outputs": [],
      "source": [
        "# Example input ICD codes (Cirrhosis of liver without mention of alcohol and Diabetes mellitus)\n",
        "input_icd_codes = ['571.5', '250.00']\n",
        "# Encode the input ICD codes\n",
        "encoded_input = [icd_to_index[icd] for icd in input_icd_codes if icd in icd_to_index]\n",
        "# Pad the encoded input\n",
        "padded_input = pad_sequence(encoded_input, MAX_ICD_LENGTH)\n",
        "# Convert to a PyTorch tensor\n",
        "input_tensor = torch.tensor([padded_input], dtype=torch.long)"
      ]
    },
    {
      "cell_type": "code",
      "execution_count": 41,
      "metadata": {},
      "outputs": [],
      "source": [
        "# Make a prediction\n",
        "# Disable gradient calculation during inference\n",
        "with torch.no_grad():  \n",
        "    # Set the model to evaluation mode\n",
        "    model.eval()  \n",
        "    output = model(input_tensor)\n",
        "    # Apply softmax to get probabilities\n",
        "    probabilities = torch.softmax(output, dim=1)  \n",
        "    # Get the index of the most likely drug\n",
        "    predicted_class = torch.argmax(probabilities, dim=1).item()  "
      ]
    },
    {
      "cell_type": "code",
      "execution_count": 44,
      "metadata": {},
      "outputs": [
        {
          "name": "stdout",
          "output_type": "stream",
          "text": [
            "Predicted Drug: propranolol la\n"
          ]
        }
      ],
      "source": [
        "# Convert the predicted class index to the drug name\n",
        "predicted_drug = drug_vocab[predicted_class]\n",
        "# Print the predicted drug\n",
        "print(f\"Predicted Drug: {predicted_drug}\")"
      ]
    },
    {
      "cell_type": "markdown",
      "metadata": {},
      "source": [
        "## Third: ML vs DL Prediction Comparison"
      ]
    },
    {
      "cell_type": "markdown",
      "metadata": {},
      "source": [
        "Using the Machine Learning Random Forest Classifier, we \"0.45% Sodium Chloride\" and \"*NF* Ertapenem Sodium\" were the predicted medications. Using the Deep Learning Recurrent Neural Network model, the predicted medications are \"propranolol la\". These predicted medications do not match. However, as the slides indicate, these medication recommendation systems should NOT be used in a clinical setting. Hence, perhaps the only reliable way to get informed feedback is to speak with an experienced physician, which I have not done.  "
      ]
    }
  ],
  "metadata": {
    "colab": {
      "provenance": []
    },
    "kernelspec": {
      "display_name": "deeplearning",
      "language": "python",
      "name": "python3"
    },
    "language_info": {
      "codemirror_mode": {
        "name": "ipython",
        "version": 3
      },
      "file_extension": ".py",
      "mimetype": "text/x-python",
      "name": "python",
      "nbconvert_exporter": "python",
      "pygments_lexer": "ipython3",
      "version": "3.11.9"
    }
  },
  "nbformat": 4,
  "nbformat_minor": 0
}
